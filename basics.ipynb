{
 "cells": [
  {
   "cell_type": "markdown",
   "id": "38bdc28b-8517-4e9a-aba6-1fc5f9e03fa0",
   "metadata": {},
   "source": [
    "# Python Basics"
   ]
  },
  {
   "cell_type": "markdown",
   "id": "b31c3657-9a15-4e12-b1dd-0f6770c960df",
   "metadata": {},
   "source": [
    "## how to change a code block to mark down \n",
    "press ```esc```button and m together \n",
    "## how to get inbuilt fuctions relates to it \n",
    "after b. press ```tab``` which will show the functions\n",
    "## how to get deatails of function from it \n",
    "place your cursor within the function's parentheses and press Shift+Tab"
   ]
  },
  {
   "cell_type": "code",
   "execution_count": 1,
   "id": "752c3bdc-492b-4095-a288-742107d5c0bb",
   "metadata": {},
   "outputs": [
    {
     "data": {
      "text/plain": [
       "2"
      ]
     },
     "execution_count": 1,
     "metadata": {},
     "output_type": "execute_result"
    }
   ],
   "source": [
    "1+1"
   ]
  },
  {
   "cell_type": "code",
   "execution_count": 2,
   "id": "984f0786-b00c-4961-916b-f6133b01f58b",
   "metadata": {},
   "outputs": [
    {
     "data": {
      "text/plain": [
       "4"
      ]
     },
     "execution_count": 2,
     "metadata": {},
     "output_type": "execute_result"
    }
   ],
   "source": [
    "2*2"
   ]
  },
  {
   "cell_type": "code",
   "execution_count": 3,
   "id": "59a5cbb7-5037-47dd-8014-290853d766e9",
   "metadata": {},
   "outputs": [
    {
     "data": {
      "text/plain": [
       "0.5"
      ]
     },
     "execution_count": 3,
     "metadata": {},
     "output_type": "execute_result"
    }
   ],
   "source": [
    "1.0/2"
   ]
  },
  {
   "cell_type": "code",
   "execution_count": 43,
   "id": "fcd08c64-3f0f-4e89-b1c9-ed9d2a248564",
   "metadata": {},
   "outputs": [
    {
     "data": {
      "text/plain": [
       "1"
      ]
     },
     "execution_count": 43,
     "metadata": {},
     "output_type": "execute_result"
    }
   ],
   "source": [
    "5%2"
   ]
  },
  {
   "cell_type": "code",
   "execution_count": 4,
   "id": "6e3582a7-a0d0-4753-a86f-b7c9fd708833",
   "metadata": {},
   "outputs": [
    {
     "data": {
      "text/plain": [
       "int"
      ]
     },
     "execution_count": 4,
     "metadata": {},
     "output_type": "execute_result"
    }
   ],
   "source": [
    "type(1)"
   ]
  },
  {
   "cell_type": "code",
   "execution_count": 6,
   "id": "fdf9a7d8-66c7-4a99-982c-674d88a2b860",
   "metadata": {},
   "outputs": [
    {
     "data": {
      "text/plain": [
       "str"
      ]
     },
     "execution_count": 6,
     "metadata": {},
     "output_type": "execute_result"
    }
   ],
   "source": [
    "type('a')"
   ]
  },
  {
   "cell_type": "code",
   "execution_count": 8,
   "id": "9088c427-7925-42c3-a4e8-0ff8ad30cca5",
   "metadata": {},
   "outputs": [
    {
     "data": {
      "text/plain": [
       "bool"
      ]
     },
     "execution_count": 8,
     "metadata": {},
     "output_type": "execute_result"
    }
   ],
   "source": [
    "type(True)"
   ]
  },
  {
   "cell_type": "code",
   "execution_count": 9,
   "id": "4ecf54a1-3145-4c4f-b7f9-ede0f8557cf0",
   "metadata": {},
   "outputs": [
    {
     "data": {
      "text/plain": [
       "float"
      ]
     },
     "execution_count": 9,
     "metadata": {},
     "output_type": "execute_result"
    }
   ],
   "source": [
    "type(2.5)"
   ]
  },
  {
   "cell_type": "code",
   "execution_count": 10,
   "id": "0c5fed7b-f4f9-408c-8bfd-be1384fc39c7",
   "metadata": {},
   "outputs": [
    {
     "data": {
      "text/plain": [
       "25"
      ]
     },
     "execution_count": 10,
     "metadata": {},
     "output_type": "execute_result"
    }
   ],
   "source": [
    "True*25"
   ]
  },
  {
   "cell_type": "markdown",
   "id": "61eede29-6146-4ff0-ab18-a0ffc0b43011",
   "metadata": {},
   "source": [
    "True is stored as 1 and False is stored as 0 in the memory "
   ]
  },
  {
   "cell_type": "code",
   "execution_count": 11,
   "id": "dfa8f8fb-7648-4bf3-8893-1b1f63594748",
   "metadata": {},
   "outputs": [
    {
     "data": {
      "text/plain": [
       "71"
      ]
     },
     "execution_count": 11,
     "metadata": {},
     "output_type": "execute_result"
    }
   ],
   "source": [
    "35*2+True"
   ]
  },
  {
   "cell_type": "code",
   "execution_count": 12,
   "id": "94dd0318-7e7b-4e7d-a687-951e9f5b88fa",
   "metadata": {},
   "outputs": [
    {
     "data": {
      "text/plain": [
       "complex"
      ]
     },
     "execution_count": 12,
     "metadata": {},
     "output_type": "execute_result"
    }
   ],
   "source": [
    "type(2+3j)"
   ]
  },
  {
   "cell_type": "code",
   "execution_count": 14,
   "id": "95a64ff3-b275-4d19-aa74-27bfde535bee",
   "metadata": {},
   "outputs": [],
   "source": [
    "a=2+3J"
   ]
  },
  {
   "cell_type": "markdown",
   "id": "cccc022d-b464-4e9b-8bdb-581376c155c6",
   "metadata": {},
   "source": [
    "#### see to write complex or imaginary numbers like 2+3i we use j in place of i (J or j) "
   ]
  },
  {
   "cell_type": "code",
   "execution_count": 15,
   "id": "1d5daf72-1681-439b-a7ed-2c8a720a3784",
   "metadata": {},
   "outputs": [
    {
     "data": {
      "text/plain": [
       "(2+3j)"
      ]
     },
     "execution_count": 15,
     "metadata": {},
     "output_type": "execute_result"
    }
   ],
   "source": [
    "a"
   ]
  },
  {
   "cell_type": "markdown",
   "id": "a63e1ff5-2d39-43b0-bac9-13e11b540c55",
   "metadata": {},
   "source": [
    "#### see after writing complex to wite it again write Variable.( press ```Tab```) to get options of imag real etc ..."
   ]
  },
  {
   "cell_type": "code",
   "execution_count": 17,
   "id": "c7e9ede9-f344-4fd5-9748-27173856500a",
   "metadata": {},
   "outputs": [
    {
     "data": {
      "text/plain": [
       "<function complex.conjugate()>"
      ]
     },
     "execution_count": 17,
     "metadata": {},
     "output_type": "execute_result"
    }
   ],
   "source": [
    "a.conjugate"
   ]
  },
  {
   "cell_type": "code",
   "execution_count": 19,
   "id": "d1e82c8b-3cac-436b-85b1-38810ad3db67",
   "metadata": {},
   "outputs": [
    {
     "data": {
      "text/plain": [
       "2.0"
      ]
     },
     "execution_count": 19,
     "metadata": {},
     "output_type": "execute_result"
    }
   ],
   "source": [
    "a.real"
   ]
  },
  {
   "cell_type": "code",
   "execution_count": 20,
   "id": "a8bb759a-5149-41b6-8a9b-078c2b67c379",
   "metadata": {},
   "outputs": [
    {
     "data": {
      "text/plain": [
       "3.0"
      ]
     },
     "execution_count": 20,
     "metadata": {},
     "output_type": "execute_result"
    }
   ],
   "source": [
    "a.imag"
   ]
  },
  {
   "cell_type": "markdown",
   "id": "64dee3cd-7b5c-4c48-8b2a-7dc07dcd7c00",
   "metadata": {},
   "source": [
    "##### isinstance(object, type) is synatx if object is the type it return True else False"
   ]
  },
  {
   "cell_type": "code",
   "execution_count": 21,
   "id": "11f3b577-35fc-4ec0-8ca6-f7242661b459",
   "metadata": {},
   "outputs": [
    {
     "data": {
      "text/plain": [
       "False"
      ]
     },
     "execution_count": 21,
     "metadata": {},
     "output_type": "execute_result"
    }
   ],
   "source": [
    "isinstance(5.0,int)"
   ]
  },
  {
   "cell_type": "code",
   "execution_count": 22,
   "id": "261ff236-28ff-449d-88c5-dd78108b7510",
   "metadata": {},
   "outputs": [
    {
     "data": {
      "text/plain": [
       "True"
      ]
     },
     "execution_count": 22,
     "metadata": {},
     "output_type": "execute_result"
    }
   ],
   "source": [
    "isinstance(5,int)"
   ]
  },
  {
   "cell_type": "code",
   "execution_count": 23,
   "id": "699ae5ba-9725-4f18-92a0-befd2445cb7b",
   "metadata": {},
   "outputs": [],
   "source": [
    "a='i am god'"
   ]
  },
  {
   "cell_type": "code",
   "execution_count": 24,
   "id": "f08f5166-fea4-4a64-85a5-a149699f64e3",
   "metadata": {},
   "outputs": [
    {
     "data": {
      "text/plain": [
       "'i am god'"
      ]
     },
     "execution_count": 24,
     "metadata": {},
     "output_type": "execute_result"
    }
   ],
   "source": [
    "a"
   ]
  },
  {
   "cell_type": "code",
   "execution_count": 31,
   "id": "7fb77f59-f1b7-46c0-a43a-550b3635f6ff",
   "metadata": {},
   "outputs": [],
   "source": [
    "a=\"i am god again\""
   ]
  },
  {
   "cell_type": "code",
   "execution_count": 32,
   "id": "dfc6f4de-aa70-4313-ab29-6d42cb9a4a4b",
   "metadata": {},
   "outputs": [
    {
     "data": {
      "text/plain": [
       "'i am god again'"
      ]
     },
     "execution_count": 32,
     "metadata": {},
     "output_type": "execute_result"
    }
   ],
   "source": [
    "a"
   ]
  },
  {
   "cell_type": "markdown",
   "id": "8dfab152-c207-4ebb-a6ce-433e6c8076e9",
   "metadata": {},
   "source": [
    "##### string can be taken as variable with \"\" or '' but use accordingly \n",
    "##### EX: \"i don't endorse this \" /// we need \"\" becaiuse not to confuse with inside don't  and stop after n. "
   ]
  },
  {
   "cell_type": "code",
   "execution_count": 33,
   "id": "b9776704-56f1-4e02-93f8-8e99f4b5ebde",
   "metadata": {},
   "outputs": [
    {
     "data": {
      "text/plain": [
       "'i'"
      ]
     },
     "execution_count": 33,
     "metadata": {},
     "output_type": "execute_result"
    }
   ],
   "source": [
    "a[0]"
   ]
  },
  {
   "cell_type": "code",
   "execution_count": 34,
   "id": "fd4aa810-1cff-4950-b0e9-385fc07d722b",
   "metadata": {},
   "outputs": [
    {
     "data": {
      "text/plain": [
       "'i'"
      ]
     },
     "execution_count": 34,
     "metadata": {},
     "output_type": "execute_result"
    }
   ],
   "source": [
    "a[-1]"
   ]
  },
  {
   "cell_type": "markdown",
   "id": "ba290a15-3951-412b-8f34-e77dba5fd018",
   "metadata": {},
   "source": [
    "##### Indexing can be done in two ways from front (0,1,2,3....) and from back (-1,-2,-3,-4,......)"
   ]
  },
  {
   "cell_type": "code",
   "execution_count": 35,
   "id": "46ceb9b4-d866-4004-a6b2-a757c61a9886",
   "metadata": {},
   "outputs": [
    {
     "data": {
      "text/plain": [
       "'i am god again'"
      ]
     },
     "execution_count": 35,
     "metadata": {},
     "output_type": "execute_result"
    }
   ],
   "source": [
    "a[:]"
   ]
  },
  {
   "cell_type": "code",
   "execution_count": 36,
   "id": "7ae472ee-5734-46f7-84dc-6ca0a87c2edb",
   "metadata": {},
   "outputs": [
    {
     "data": {
      "text/plain": [
       "'am g'"
      ]
     },
     "execution_count": 36,
     "metadata": {},
     "output_type": "execute_result"
    }
   ],
   "source": [
    "a[2:6]"
   ]
  },
  {
   "cell_type": "markdown",
   "id": "e1f43cd9-81bf-49cc-981e-7e03622d0164",
   "metadata": {},
   "source": [
    "##### this means a[i:j]  starts from i and end before j [i,j)"
   ]
  },
  {
   "cell_type": "code",
   "execution_count": 37,
   "id": "b7e9e874-5c42-4bd5-9ef7-c0e5d5d11b5a",
   "metadata": {},
   "outputs": [],
   "source": [
    "a=-4"
   ]
  },
  {
   "cell_type": "code",
   "execution_count": 38,
   "id": "3540d7e4-d810-4889-a229-8f762616fdb2",
   "metadata": {},
   "outputs": [
    {
     "data": {
      "text/plain": [
       "-4"
      ]
     },
     "execution_count": 38,
     "metadata": {},
     "output_type": "execute_result"
    }
   ],
   "source": [
    "a"
   ]
  },
  {
   "cell_type": "code",
   "execution_count": 39,
   "id": "3c7374d3-c909-4db9-a6b5-3b339aa7828a",
   "metadata": {},
   "outputs": [
    {
     "data": {
      "text/plain": [
       "4"
      ]
     },
     "execution_count": 39,
     "metadata": {},
     "output_type": "execute_result"
    }
   ],
   "source": [
    "abs(a)"
   ]
  },
  {
   "cell_type": "code",
   "execution_count": 40,
   "id": "d3121ad6-2887-485e-8410-0b56880886b9",
   "metadata": {},
   "outputs": [
    {
     "data": {
      "text/plain": [
       "8"
      ]
     },
     "execution_count": 40,
     "metadata": {},
     "output_type": "execute_result"
    }
   ],
   "source": [
    "pow(2,3)"
   ]
  },
  {
   "cell_type": "markdown",
   "id": "544cd5c5-d504-47cd-993a-d6baa48e7159",
   "metadata": {},
   "source": [
    "#####  The round() function returns a floating point number that is a rounded version of the specified number, with the specified number of decimals.\n",
    "##### The default number of decimals is 0, meaning that the function will return the nearest integer."
   ]
  },
  {
   "cell_type": "code",
   "execution_count": 41,
   "id": "674d87b5-f4ae-4786-aeb3-40867e25f79e",
   "metadata": {},
   "outputs": [
    {
     "data": {
      "text/plain": [
       "3.15"
      ]
     },
     "execution_count": 41,
     "metadata": {},
     "output_type": "execute_result"
    }
   ],
   "source": [
    "round(3.147, 2)"
   ]
  },
  {
   "cell_type": "code",
   "execution_count": 42,
   "id": "9cafcb17-9971-4769-9f5c-75a313d28abd",
   "metadata": {},
   "outputs": [
    {
     "data": {
      "text/plain": [
       "3"
      ]
     },
     "execution_count": 42,
     "metadata": {},
     "output_type": "execute_result"
    }
   ],
   "source": [
    "round(3.147)"
   ]
  },
  {
   "cell_type": "code",
   "execution_count": 44,
   "id": "7046f735-c5cb-459a-8d80-911ac62ba21d",
   "metadata": {},
   "outputs": [
    {
     "data": {
      "text/plain": [
       "2"
      ]
     },
     "execution_count": 44,
     "metadata": {},
     "output_type": "execute_result"
    }
   ],
   "source": [
    "min(2,3,4)"
   ]
  },
  {
   "cell_type": "code",
   "execution_count": 45,
   "id": "bf408c9d-f1f4-4526-9e47-4c4e6eee1c60",
   "metadata": {},
   "outputs": [
    {
     "data": {
      "text/plain": [
       "4"
      ]
     },
     "execution_count": 45,
     "metadata": {},
     "output_type": "execute_result"
    }
   ],
   "source": [
    "max(2,3,4)"
   ]
  },
  {
   "cell_type": "code",
   "execution_count": 56,
   "id": "60c7a94d-accd-4f31-b012-707398b194a3",
   "metadata": {},
   "outputs": [],
   "source": [
    "a=[2,3,4,5,6,7,8]"
   ]
  },
  {
   "cell_type": "code",
   "execution_count": 57,
   "id": "cd107888-9e66-43fe-936c-0b9822659929",
   "metadata": {},
   "outputs": [
    {
     "data": {
      "text/plain": [
       "2"
      ]
     },
     "execution_count": 57,
     "metadata": {},
     "output_type": "execute_result"
    }
   ],
   "source": [
    "min(a)"
   ]
  },
  {
   "cell_type": "code",
   "execution_count": 58,
   "id": "46a23107-4e8a-4616-90cf-859413f7114d",
   "metadata": {},
   "outputs": [
    {
     "data": {
      "text/plain": [
       "8"
      ]
     },
     "execution_count": 58,
     "metadata": {},
     "output_type": "execute_result"
    }
   ],
   "source": [
    "max(a)"
   ]
  },
  {
   "cell_type": "code",
   "execution_count": 59,
   "id": "7a979c1e-3296-4345-b017-918354e42cf0",
   "metadata": {},
   "outputs": [
    {
     "data": {
      "text/plain": [
       "35"
      ]
     },
     "execution_count": 59,
     "metadata": {},
     "output_type": "execute_result"
    }
   ],
   "source": [
    "sum(a)"
   ]
  },
  {
   "cell_type": "code",
   "execution_count": 61,
   "id": "a264fe91-b85c-44ae-bdb8-e9f36e510573",
   "metadata": {},
   "outputs": [
    {
     "data": {
      "text/plain": [
       "135"
      ]
     },
     "execution_count": 61,
     "metadata": {},
     "output_type": "execute_result"
    }
   ],
   "source": [
    "sum(a,100)\n",
    "#sum(iterable,number) add all the iterables to the number "
   ]
  },
  {
   "cell_type": "code",
   "execution_count": 77,
   "id": "78f14d57-7b57-4267-82a0-eb493d444d5a",
   "metadata": {},
   "outputs": [],
   "source": [
    "b=\"Reverend Insanity   \""
   ]
  },
  {
   "cell_type": "code",
   "execution_count": 78,
   "id": "ce90405b-2b8e-4dce-ad14-4467ccf8b5b0",
   "metadata": {},
   "outputs": [
    {
     "data": {
      "text/plain": [
       "'Reverend Insanity   '"
      ]
     },
     "execution_count": 78,
     "metadata": {},
     "output_type": "execute_result"
    }
   ],
   "source": [
    "b"
   ]
  },
  {
   "cell_type": "code",
   "execution_count": 79,
   "id": "84dd4d99-a812-4b9a-b34b-d5bc35519769",
   "metadata": {},
   "outputs": [
    {
     "data": {
      "text/plain": [
       "'reverend insanity   '"
      ]
     },
     "execution_count": 79,
     "metadata": {},
     "output_type": "execute_result"
    }
   ],
   "source": [
    "b.lower()"
   ]
  },
  {
   "cell_type": "code",
   "execution_count": 80,
   "id": "9307c8cf-ab37-47c7-9ae0-5f050ee70b1f",
   "metadata": {},
   "outputs": [
    {
     "data": {
      "text/plain": [
       "'REVEREND INSANITY   '"
      ]
     },
     "execution_count": 80,
     "metadata": {},
     "output_type": "execute_result"
    }
   ],
   "source": [
    "b.upper()"
   ]
  },
  {
   "cell_type": "code",
   "execution_count": 82,
   "id": "6286810d-ba14-488d-9e90-84d5ab6fc610",
   "metadata": {},
   "outputs": [
    {
     "data": {
      "text/plain": [
       "'Reverend Insanity'"
      ]
     },
     "execution_count": 82,
     "metadata": {},
     "output_type": "execute_result"
    }
   ],
   "source": [
    "b.strip()  #removes extra white spaces at start or end "
   ]
  },
  {
   "cell_type": "code",
   "execution_count": 84,
   "id": "c63f8f10-7bed-4c12-ad2a-3b41f4b5ab44",
   "metadata": {},
   "outputs": [
    {
     "data": {
      "text/plain": [
       "1"
      ]
     },
     "execution_count": 84,
     "metadata": {},
     "output_type": "execute_result"
    }
   ],
   "source": [
    "b.find('e')  #returns index where it first found that sub string "
   ]
  },
  {
   "cell_type": "code",
   "execution_count": 85,
   "id": "8cb578bb-dc1b-4877-8607-52c2d5f013b7",
   "metadata": {},
   "outputs": [
    {
     "data": {
      "text/plain": [
       "5"
      ]
     },
     "execution_count": 85,
     "metadata": {},
     "output_type": "execute_result"
    }
   ],
   "source": [
    "b.find('en')"
   ]
  },
  {
   "cell_type": "code",
   "execution_count": 87,
   "id": "5ad71fa0-d573-4535-bd82-9985becf9abb",
   "metadata": {},
   "outputs": [
    {
     "data": {
      "text/plain": [
       "['Reverend', 'Insanity']"
      ]
     },
     "execution_count": 87,
     "metadata": {},
     "output_type": "execute_result"
    }
   ],
   "source": [
    "b.split()"
   ]
  },
  {
   "cell_type": "code",
   "execution_count": 90,
   "id": "6b8fdc32-d252-4103-a025-954d97aeee38",
   "metadata": {},
   "outputs": [
    {
     "data": {
      "text/plain": [
       "'Reverend InsAnity   '"
      ]
     },
     "execution_count": 90,
     "metadata": {},
     "output_type": "execute_result"
    }
   ],
   "source": [
    "b.replace('a','A')"
   ]
  },
  {
   "cell_type": "code",
   "execution_count": 91,
   "id": "95c380f1-c807-4332-b1ce-f005c6556567",
   "metadata": {},
   "outputs": [
    {
     "data": {
      "text/plain": [
       "str"
      ]
     },
     "execution_count": 91,
     "metadata": {},
     "output_type": "execute_result"
    }
   ],
   "source": [
    "type(b)"
   ]
  },
  {
   "cell_type": "code",
   "execution_count": 92,
   "id": "d394c757-89a3-4a6a-8c2f-2d238b30e600",
   "metadata": {},
   "outputs": [
    {
     "data": {
      "text/plain": [
       "20"
      ]
     },
     "execution_count": 92,
     "metadata": {},
     "output_type": "execute_result"
    }
   ],
   "source": [
    "len(b)"
   ]
  },
  {
   "cell_type": "code",
   "execution_count": 94,
   "id": "ac3c9229-2fa6-4c6f-95d1-9c84aedca659",
   "metadata": {},
   "outputs": [
    {
     "name": "stdin",
     "output_type": "stream",
     "text": [
      "enter the integer 23\n"
     ]
    }
   ],
   "source": [
    "a=input('enter the integer')"
   ]
  },
  {
   "cell_type": "code",
   "execution_count": 95,
   "id": "4b0a89ba-2254-4d56-9f99-1082af7d1d70",
   "metadata": {},
   "outputs": [
    {
     "data": {
      "text/plain": [
       "'23'"
      ]
     },
     "execution_count": 95,
     "metadata": {},
     "output_type": "execute_result"
    }
   ],
   "source": [
    "a"
   ]
  },
  {
   "cell_type": "code",
   "execution_count": 97,
   "id": "934f08b0-a377-4043-91f5-a4565426da4a",
   "metadata": {},
   "outputs": [
    {
     "name": "stdin",
     "output_type": "stream",
     "text": [
      "now this will take input as integer 23\n"
     ]
    }
   ],
   "source": [
    "a=int(input('now this will take input as integer'))"
   ]
  },
  {
   "cell_type": "code",
   "execution_count": 98,
   "id": "e9e342b8-b5f3-4002-94f1-e3e450b283d1",
   "metadata": {},
   "outputs": [
    {
     "data": {
      "text/plain": [
       "23"
      ]
     },
     "execution_count": 98,
     "metadata": {},
     "output_type": "execute_result"
    }
   ],
   "source": [
    "a"
   ]
  },
  {
   "cell_type": "code",
   "execution_count": null,
   "id": "6298c8bc-f41f-4fbe-98c4-cfc7b7122070",
   "metadata": {},
   "outputs": [],
   "source": []
  }
 ],
 "metadata": {
  "kernelspec": {
   "display_name": "Python 3 (ipykernel)",
   "language": "python",
   "name": "python3"
  },
  "language_info": {
   "codemirror_mode": {
    "name": "ipython",
    "version": 3
   },
   "file_extension": ".py",
   "mimetype": "text/x-python",
   "name": "python",
   "nbconvert_exporter": "python",
   "pygments_lexer": "ipython3",
   "version": "3.12.4"
  }
 },
 "nbformat": 4,
 "nbformat_minor": 5
}
