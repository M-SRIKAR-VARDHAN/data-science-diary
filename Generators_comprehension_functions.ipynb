{
 "cells": [
  {
   "cell_type": "code",
   "execution_count": 1,
   "id": "dddf4e73-9e4c-4b92-bc04-cbc136fd6002",
   "metadata": {},
   "outputs": [],
   "source": [
    "def test_fib(n):\n",
    "    a,b=0,1\n",
    "    for i in range(n):\n",
    "        yield a\n",
    "        a,b=b,a+b"
   ]
  },
  {
   "cell_type": "code",
   "execution_count": 2,
   "id": "4d4e2745-3abd-412b-8c08-5f208ac97a23",
   "metadata": {},
   "outputs": [
    {
     "data": {
      "text/plain": [
       "<generator object test_fib at 0x00000228075CA420>"
      ]
     },
     "execution_count": 2,
     "metadata": {},
     "output_type": "execute_result"
    }
   ],
   "source": [
    "test_fib(8)"
   ]
  },
  {
   "cell_type": "code",
   "execution_count": 3,
   "id": "a5286a77-a585-451d-937b-db457c64dca5",
   "metadata": {},
   "outputs": [
    {
     "name": "stdout",
     "output_type": "stream",
     "text": [
      "0\n",
      "1\n",
      "1\n",
      "2\n",
      "3\n",
      "5\n",
      "8\n",
      "13\n"
     ]
    }
   ],
   "source": [
    "for i in test_fib(8):\n",
    "    print(i)"
   ]
  },
  {
   "cell_type": "code",
   "execution_count": 10,
   "id": "0cdd4faf-61bf-4170-90e5-6cb639675c90",
   "metadata": {},
   "outputs": [],
   "source": [
    "def test_fib1():\n",
    "    a,b=0,1\n",
    "    while True:\n",
    "        yield a\n",
    "        a,b = b,a+b"
   ]
  },
  {
   "cell_type": "code",
   "execution_count": 11,
   "id": "6d1e3fc1-45a0-40da-ba6a-37926825076d",
   "metadata": {},
   "outputs": [],
   "source": [
    "fib = test_fib1()"
   ]
  },
  {
   "cell_type": "code",
   "execution_count": 17,
   "id": "038178a0-84b6-465f-90fd-638c8f6e8cd9",
   "metadata": {},
   "outputs": [
    {
     "data": {
      "text/plain": [
       "generator"
      ]
     },
     "execution_count": 17,
     "metadata": {},
     "output_type": "execute_result"
    }
   ],
   "source": [
    "type(fib)"
   ]
  },
  {
   "cell_type": "code",
   "execution_count": 12,
   "id": "1ae49cf8-bb46-4783-a998-92ec2c8fea37",
   "metadata": {},
   "outputs": [
    {
     "name": "stdout",
     "output_type": "stream",
     "text": [
      "0\n",
      "1\n",
      "1\n",
      "2\n",
      "3\n",
      "5\n",
      "8\n",
      "13\n",
      "21\n",
      "34\n"
     ]
    }
   ],
   "source": [
    "for i in range(10):\n",
    "    print(next(fib))"
   ]
  },
  {
   "cell_type": "code",
   "execution_count": 13,
   "id": "2603f018-3281-4e96-b5cb-eb197c2bba45",
   "metadata": {},
   "outputs": [],
   "source": [
    "s= 'srikar'"
   ]
  },
  {
   "cell_type": "code",
   "execution_count": 14,
   "id": "3231d5f0-11cd-4a13-8d0e-ecfac95d501b",
   "metadata": {},
   "outputs": [
    {
     "name": "stdout",
     "output_type": "stream",
     "text": [
      "s\n",
      "r\n",
      "i\n",
      "k\n",
      "a\n",
      "r\n"
     ]
    }
   ],
   "source": [
    "for i in s:\n",
    "    print(i)"
   ]
  },
  {
   "cell_type": "code",
   "execution_count": 15,
   "id": "ffa09d18-3785-4151-ada7-f2c6e8b28568",
   "metadata": {},
   "outputs": [
    {
     "data": {
      "text/plain": [
       "'srikar'"
      ]
     },
     "execution_count": 15,
     "metadata": {},
     "output_type": "execute_result"
    }
   ],
   "source": [
    "s"
   ]
  },
  {
   "cell_type": "code",
   "execution_count": 16,
   "id": "1260fccf-45a1-4525-baaa-f9597ccd2c7b",
   "metadata": {},
   "outputs": [
    {
     "data": {
      "text/plain": [
       "str"
      ]
     },
     "execution_count": 16,
     "metadata": {},
     "output_type": "execute_result"
    }
   ],
   "source": [
    "type(s)"
   ]
  },
  {
   "cell_type": "code",
   "execution_count": 18,
   "id": "726f8730-9b42-4a0b-95d3-0539e292bcad",
   "metadata": {},
   "outputs": [
    {
     "ename": "TypeError",
     "evalue": "'str' object is not an iterator",
     "output_type": "error",
     "traceback": [
      "\u001b[1;31m---------------------------------------------------------------------------\u001b[0m",
      "\u001b[1;31mTypeError\u001b[0m                                 Traceback (most recent call last)",
      "Cell \u001b[1;32mIn[18], line 1\u001b[0m\n\u001b[1;32m----> 1\u001b[0m \u001b[38;5;28;43mnext\u001b[39;49m\u001b[43m(\u001b[49m\u001b[43ms\u001b[49m\u001b[43m)\u001b[49m\n",
      "\u001b[1;31mTypeError\u001b[0m: 'str' object is not an iterator"
     ]
    }
   ],
   "source": [
    "next(s)  #s is iterable it is not an interator"
   ]
  },
  {
   "cell_type": "code",
   "execution_count": 19,
   "id": "2532e2e6-d45a-459c-a441-5bdc2e153dbb",
   "metadata": {},
   "outputs": [],
   "source": [
    "s1=iter(s)   #iterables can be converted to iterator"
   ]
  },
  {
   "cell_type": "code",
   "execution_count": 20,
   "id": "ad5290d8-0957-41bc-8a8f-a05591543b61",
   "metadata": {},
   "outputs": [
    {
     "data": {
      "text/plain": [
       "str_ascii_iterator"
      ]
     },
     "execution_count": 20,
     "metadata": {},
     "output_type": "execute_result"
    }
   ],
   "source": [
    "type(s1)"
   ]
  },
  {
   "cell_type": "code",
   "execution_count": 21,
   "id": "12640b85-9bd6-4290-a45a-8bd6b5f47c93",
   "metadata": {},
   "outputs": [
    {
     "data": {
      "text/plain": [
       "'s'"
      ]
     },
     "execution_count": 21,
     "metadata": {},
     "output_type": "execute_result"
    }
   ],
   "source": [
    "next(s1)"
   ]
  },
  {
   "cell_type": "code",
   "execution_count": 22,
   "id": "5b31b8d5-4745-4c31-b4bf-f386ef4f412c",
   "metadata": {},
   "outputs": [
    {
     "data": {
      "text/plain": [
       "'r'"
      ]
     },
     "execution_count": 22,
     "metadata": {},
     "output_type": "execute_result"
    }
   ],
   "source": [
    "next(s1)"
   ]
  },
  {
   "cell_type": "code",
   "execution_count": 23,
   "id": "b4cb261a-54d4-4c5d-8eab-0a7f7e8b2019",
   "metadata": {},
   "outputs": [
    {
     "data": {
      "text/plain": [
       "'i'"
      ]
     },
     "execution_count": 23,
     "metadata": {},
     "output_type": "execute_result"
    }
   ],
   "source": [
    "next(s1)"
   ]
  },
  {
   "cell_type": "code",
   "execution_count": 24,
   "id": "4ab8ea45-d6be-4050-8bfc-8a0d5c161526",
   "metadata": {},
   "outputs": [
    {
     "ename": "TypeError",
     "evalue": "'int' object is not an iterator",
     "output_type": "error",
     "traceback": [
      "\u001b[1;31m---------------------------------------------------------------------------\u001b[0m",
      "\u001b[1;31mTypeError\u001b[0m                                 Traceback (most recent call last)",
      "Cell \u001b[1;32mIn[24], line 1\u001b[0m\n\u001b[1;32m----> 1\u001b[0m \u001b[38;5;28;43mnext\u001b[39;49m\u001b[43m(\u001b[49m\u001b[38;5;241;43m45\u001b[39;49m\u001b[43m)\u001b[49m\n",
      "\u001b[1;31mTypeError\u001b[0m: 'int' object is not an iterator"
     ]
    }
   ],
   "source": [
    "next(45)"
   ]
  },
  {
   "cell_type": "code",
   "execution_count": 26,
   "id": "a386a48c-ff7a-454f-9a0a-38bd7592bb40",
   "metadata": {},
   "outputs": [
    {
     "ename": "TypeError",
     "evalue": "'int' object is not iterable",
     "output_type": "error",
     "traceback": [
      "\u001b[1;31m---------------------------------------------------------------------------\u001b[0m",
      "\u001b[1;31mTypeError\u001b[0m                                 Traceback (most recent call last)",
      "Cell \u001b[1;32mIn[26], line 1\u001b[0m\n\u001b[1;32m----> 1\u001b[0m \u001b[38;5;28;43miter\u001b[39;49m\u001b[43m(\u001b[49m\u001b[38;5;241;43m45\u001b[39;49m\u001b[43m)\u001b[49m  \u001b[38;5;66;03m# we can only covert the  iterable to iterator \u001b[39;00m\n",
      "\u001b[1;31mTypeError\u001b[0m: 'int' object is not iterable"
     ]
    }
   ],
   "source": [
    "iter(45)  # we can only covert the  iterable to iterator "
   ]
  },
  {
   "cell_type": "code",
   "execution_count": 28,
   "id": "9078a00d-f76c-440d-82c0-e866e0e1523a",
   "metadata": {},
   "outputs": [],
   "source": [
    "def count(n):\n",
    "    count=1\n",
    "    while count<=n :\n",
    "        yield count\n",
    "        count = count+1"
   ]
  },
  {
   "cell_type": "code",
   "execution_count": 29,
   "id": "cdd508de-a940-4a32-8e1b-2df44ee5e48d",
   "metadata": {},
   "outputs": [],
   "source": [
    "c = count(10)"
   ]
  },
  {
   "cell_type": "code",
   "execution_count": 30,
   "id": "4f4e8c08-c776-4af4-908e-40136a38d00a",
   "metadata": {},
   "outputs": [
    {
     "name": "stdout",
     "output_type": "stream",
     "text": [
      "1\n",
      "2\n",
      "3\n",
      "4\n",
      "5\n",
      "6\n",
      "7\n",
      "8\n",
      "9\n",
      "10\n"
     ]
    }
   ],
   "source": [
    "for i in c:\n",
    "    print(i)"
   ]
  },
  {
   "cell_type": "code",
   "execution_count": 31,
   "id": "ea51ef49-cc17-4f60-9ed3-77de76d6836f",
   "metadata": {},
   "outputs": [],
   "source": [
    "l= [1,2,3,4,5]\n",
    "l1=[]"
   ]
  },
  {
   "cell_type": "code",
   "execution_count": 32,
   "id": "f681445d-02d8-48cc-992e-aa411445ca62",
   "metadata": {},
   "outputs": [],
   "source": [
    "for i in l:\n",
    "    l1.append(i**2)"
   ]
  },
  {
   "cell_type": "code",
   "execution_count": 33,
   "id": "c85fd083-477b-48e3-aeee-1900345f3b1e",
   "metadata": {},
   "outputs": [
    {
     "data": {
      "text/plain": [
       "[1, 4, 9, 16, 25]"
      ]
     },
     "execution_count": 33,
     "metadata": {},
     "output_type": "execute_result"
    }
   ],
   "source": [
    "l1"
   ]
  },
  {
   "cell_type": "code",
   "execution_count": 34,
   "id": "fe027491-6f85-48e3-8ba9-9828cfd12a6c",
   "metadata": {},
   "outputs": [
    {
     "data": {
      "text/plain": [
       "[1, 4, 9, 16, 25]"
      ]
     },
     "execution_count": 34,
     "metadata": {},
     "output_type": "execute_result"
    }
   ],
   "source": [
    "[i**2 for i in l]"
   ]
  },
  {
   "cell_type": "code",
   "execution_count": 35,
   "id": "d80c6f48-2761-49eb-967c-d77380562036",
   "metadata": {},
   "outputs": [
    {
     "data": {
      "text/plain": [
       "[2, 4, 6, 8, 10]"
      ]
     },
     "execution_count": 35,
     "metadata": {},
     "output_type": "execute_result"
    }
   ],
   "source": [
    "[i*2 for i in l]"
   ]
  },
  {
   "cell_type": "code",
   "execution_count": 36,
   "id": "c67fb024-9733-4ff7-9f0d-49c6024311eb",
   "metadata": {},
   "outputs": [
    {
     "data": {
      "text/plain": [
       "[2, 4]"
      ]
     },
     "execution_count": 36,
     "metadata": {},
     "output_type": "execute_result"
    }
   ],
   "source": [
    "[i for i in l if i%2 ==0 ]"
   ]
  },
  {
   "cell_type": "code",
   "execution_count": 37,
   "id": "ef2d530b-16b4-4530-b883-656fd4f45d60",
   "metadata": {},
   "outputs": [],
   "source": [
    "l2=['Mangadoddi','srikar','vardhan','yadhav']"
   ]
  },
  {
   "cell_type": "code",
   "execution_count": 39,
   "id": "2d26f77c-76a7-4c0d-8672-a4df070889bf",
   "metadata": {},
   "outputs": [
    {
     "data": {
      "text/plain": [
       "['MANGADODDI', 'SRIKAR', 'VARDHAN', 'YADHAV']"
      ]
     },
     "execution_count": 39,
     "metadata": {},
     "output_type": "execute_result"
    }
   ],
   "source": [
    "[i.upper() for i in l2 ]"
   ]
  },
  {
   "cell_type": "code",
   "execution_count": 40,
   "id": "b2fe5b35-cd7b-424f-9da1-11928f501ae2",
   "metadata": {},
   "outputs": [
    {
     "data": {
      "text/plain": [
       "[1, 4, 9, 16, 25]"
      ]
     },
     "execution_count": 40,
     "metadata": {},
     "output_type": "execute_result"
    }
   ],
   "source": [
    "list(i**2 for i in l)"
   ]
  },
  {
   "cell_type": "code",
   "execution_count": 41,
   "id": "8f769f32-da15-43ec-b021-a37011dd1fae",
   "metadata": {},
   "outputs": [],
   "source": [
    "d= {'key1':1,'key2':2,'key3':3,'key4':4,'key5':5}"
   ]
  },
  {
   "cell_type": "code",
   "execution_count": 48,
   "id": "b6e09ec8-045b-45d3-8b89-c14ecc5f9ecd",
   "metadata": {},
   "outputs": [
    {
     "data": {
      "text/plain": [
       "{'key1': 1, 'key2': 4, 'key3': 9, 'key4': 16, 'key5': 25}"
      ]
     },
     "execution_count": 48,
     "metadata": {},
     "output_type": "execute_result"
    }
   ],
   "source": [
    "{k:v**2 for k, v in d.items()}"
   ]
  },
  {
   "cell_type": "code",
   "execution_count": 45,
   "id": "71f84094-04e4-4fcb-9eb4-190497ef011f",
   "metadata": {},
   "outputs": [
    {
     "data": {
      "text/plain": [
       "dict_items([('key1', 1), ('key2', 2), ('key3', 3), ('key4', 4), ('key5', 5)])"
      ]
     },
     "execution_count": 45,
     "metadata": {},
     "output_type": "execute_result"
    }
   ],
   "source": [
    "d.items()"
   ]
  },
  {
   "cell_type": "code",
   "execution_count": 49,
   "id": "34d6065f-5af4-4f62-a446-d1b2aed9bf30",
   "metadata": {},
   "outputs": [
    {
     "data": {
      "text/plain": [
       "{'key3': 9, 'key4': 16, 'key5': 25}"
      ]
     },
     "execution_count": 49,
     "metadata": {},
     "output_type": "execute_result"
    }
   ],
   "source": [
    "{k:v**2 for k, v in d.items() if  v>2}"
   ]
  },
  {
   "cell_type": "code",
   "execution_count": 50,
   "id": "c1749bb4-96c8-49b3-9234-338aed1cd102",
   "metadata": {},
   "outputs": [],
   "source": [
    "def test():\n",
    "    pass"
   ]
  },
  {
   "cell_type": "code",
   "execution_count": 51,
   "id": "1fac0ad2-f934-494e-92f2-702453b20033",
   "metadata": {},
   "outputs": [],
   "source": [
    "def test1():\n",
    "    print(\"this is my function\")"
   ]
  },
  {
   "cell_type": "code",
   "execution_count": 52,
   "id": "04279eaf-a418-4ba1-8e00-9c5f47d3e8cf",
   "metadata": {},
   "outputs": [
    {
     "name": "stdout",
     "output_type": "stream",
     "text": [
      "this is my function\n"
     ]
    }
   ],
   "source": [
    "test1()"
   ]
  },
  {
   "cell_type": "code",
   "execution_count": 53,
   "id": "6e884cf4-5e30-4c99-a9ae-c889f3902e3b",
   "metadata": {},
   "outputs": [
    {
     "name": "stdout",
     "output_type": "stream",
     "text": [
      "this is my function\n"
     ]
    },
    {
     "data": {
      "text/plain": [
       "NoneType"
      ]
     },
     "execution_count": 53,
     "metadata": {},
     "output_type": "execute_result"
    }
   ],
   "source": [
    "type(test1())"
   ]
  },
  {
   "cell_type": "code",
   "execution_count": 60,
   "id": "e0f947cc-59f4-409b-a741-9ea4b8f32140",
   "metadata": {},
   "outputs": [
    {
     "name": "stdout",
     "output_type": "stream",
     "text": [
      "this is my function\n"
     ]
    },
    {
     "ename": "TypeError",
     "evalue": "unsupported operand type(s) for +: 'NoneType' and 'str'",
     "output_type": "error",
     "traceback": [
      "\u001b[1;31m---------------------------------------------------------------------------\u001b[0m",
      "\u001b[1;31mTypeError\u001b[0m                                 Traceback (most recent call last)",
      "Cell \u001b[1;32mIn[60], line 1\u001b[0m\n\u001b[1;32m----> 1\u001b[0m \u001b[43mtest1\u001b[49m\u001b[43m(\u001b[49m\u001b[43m)\u001b[49m\u001b[38;5;241;43m+\u001b[39;49m\u001b[38;5;124;43m\"\u001b[39;49m\u001b[38;5;124;43msrikar\u001b[39;49m\u001b[38;5;124;43m\"\u001b[39;49m\n",
      "\u001b[1;31mTypeError\u001b[0m: unsupported operand type(s) for +: 'NoneType' and 'str'"
     ]
    }
   ],
   "source": [
    "test1()+\"srikar\""
   ]
  },
  {
   "cell_type": "code",
   "execution_count": 55,
   "id": "7b3b572d-5014-4f43-a6bb-ecf30e9a3679",
   "metadata": {},
   "outputs": [],
   "source": [
    "def test2():\n",
    "    return 2,2.33,'srikar',[1,2,3,4]"
   ]
  },
  {
   "cell_type": "code",
   "execution_count": 65,
   "id": "51953a90-b972-46d8-89ad-090f4c93c0fb",
   "metadata": {},
   "outputs": [
    {
     "data": {
      "text/plain": [
       "tuple"
      ]
     },
     "execution_count": 65,
     "metadata": {},
     "output_type": "execute_result"
    }
   ],
   "source": [
    "type(test2())"
   ]
  },
  {
   "cell_type": "code",
   "execution_count": 56,
   "id": "fbc8774e-6e68-492c-a8a4-35b157efb057",
   "metadata": {},
   "outputs": [
    {
     "data": {
      "text/plain": [
       "(2, 2.33, 'srikar', [1, 2, 3, 4])"
      ]
     },
     "execution_count": 56,
     "metadata": {},
     "output_type": "execute_result"
    }
   ],
   "source": [
    "test2()"
   ]
  },
  {
   "cell_type": "code",
   "execution_count": 57,
   "id": "22dc3039-4bb9-4aa0-9b79-ef3ce276a7bf",
   "metadata": {},
   "outputs": [],
   "source": [
    "a,b,c,d =test2()"
   ]
  },
  {
   "cell_type": "code",
   "execution_count": 58,
   "id": "ff1a9f97-252a-4b72-98fc-64b61f9edd92",
   "metadata": {},
   "outputs": [
    {
     "data": {
      "text/plain": [
       "2"
      ]
     },
     "execution_count": 58,
     "metadata": {},
     "output_type": "execute_result"
    }
   ],
   "source": [
    "a"
   ]
  },
  {
   "cell_type": "code",
   "execution_count": 59,
   "id": "52059af1-3907-44b7-a9b5-82929c65b7e1",
   "metadata": {},
   "outputs": [
    {
     "data": {
      "text/plain": [
       "2.33"
      ]
     },
     "execution_count": 59,
     "metadata": {},
     "output_type": "execute_result"
    }
   ],
   "source": [
    "b"
   ]
  },
  {
   "cell_type": "code",
   "execution_count": 61,
   "id": "5f7df99f-1dfe-4946-9cfc-ea8548cd5039",
   "metadata": {},
   "outputs": [],
   "source": [
    "def test3():\n",
    "    return 'god'"
   ]
  },
  {
   "cell_type": "code",
   "execution_count": 64,
   "id": "eb001f52-c6f7-474c-a4e4-0171f1c2f031",
   "metadata": {},
   "outputs": [
    {
     "data": {
      "text/plain": [
       "str"
      ]
     },
     "execution_count": 64,
     "metadata": {},
     "output_type": "execute_result"
    }
   ],
   "source": [
    "type(test3())"
   ]
  },
  {
   "cell_type": "code",
   "execution_count": 63,
   "id": "251fd655-f2cb-4586-80ce-703933409b89",
   "metadata": {},
   "outputs": [
    {
     "data": {
      "text/plain": [
       "'god srikar'"
      ]
     },
     "execution_count": 63,
     "metadata": {},
     "output_type": "execute_result"
    }
   ],
   "source": [
    "test3()+\" srikar\""
   ]
  },
  {
   "cell_type": "code",
   "execution_count": 66,
   "id": "ae7bb56f-d1e4-44c2-b3b3-30f52d298d2d",
   "metadata": {},
   "outputs": [],
   "source": [
    "a,b,c=1,2,3"
   ]
  },
  {
   "cell_type": "code",
   "execution_count": 67,
   "id": "42f735ca-a106-4ca5-a0ef-c47e904d3c81",
   "metadata": {},
   "outputs": [
    {
     "name": "stdout",
     "output_type": "stream",
     "text": [
      "1 2 3\n"
     ]
    }
   ],
   "source": [
    "print(a,b,c)"
   ]
  },
  {
   "cell_type": "code",
   "execution_count": 68,
   "id": "52452be8-72c2-4225-ab1c-435bc7cccb40",
   "metadata": {},
   "outputs": [],
   "source": [
    "def test4(a,b,c):\n",
    "    d=a+(b/c)\n",
    "    return d"
   ]
  },
  {
   "cell_type": "code",
   "execution_count": 69,
   "id": "01d52e7f-e96f-4750-869b-bd76cc8863d7",
   "metadata": {},
   "outputs": [
    {
     "data": {
      "text/plain": [
       "5.857142857142857"
      ]
     },
     "execution_count": 69,
     "metadata": {},
     "output_type": "execute_result"
    }
   ],
   "source": [
    "test4(5,6,7)"
   ]
  },
  {
   "cell_type": "code",
   "execution_count": 71,
   "id": "3d792dab-0af1-4846-af17-54f90a60afe8",
   "metadata": {},
   "outputs": [
    {
     "data": {
      "text/plain": [
       "float"
      ]
     },
     "execution_count": 71,
     "metadata": {},
     "output_type": "execute_result"
    }
   ],
   "source": [
    "type(test4(a,b,c))"
   ]
  },
  {
   "cell_type": "code",
   "execution_count": 72,
   "id": "02e4524d-6430-4d80-aed5-d665780e28b6",
   "metadata": {},
   "outputs": [],
   "source": [
    "l=[1,2,3,4,'srikar','vardhan',[1,2,3,4]]"
   ]
  },
  {
   "cell_type": "code",
   "execution_count": 76,
   "id": "1c0de2c7-9ec5-43d4-a433-6bb76eeb73a9",
   "metadata": {},
   "outputs": [],
   "source": [
    "def test5(l):\n",
    "    l1=[]\n",
    "    for i in l :\n",
    "        if type(i)==int or type(i) == float:\n",
    "            l1.append(i)\n",
    "    return l1\n",
    "            \n",
    "        "
   ]
  },
  {
   "cell_type": "code",
   "execution_count": 77,
   "id": "5dae6b38-04a4-4246-8cb4-a3e8184f5ed4",
   "metadata": {},
   "outputs": [
    {
     "data": {
      "text/plain": [
       "[1, 2, 3, 4]"
      ]
     },
     "execution_count": 77,
     "metadata": {},
     "output_type": "execute_result"
    }
   ],
   "source": [
    "test5(l)"
   ]
  },
  {
   "cell_type": "code",
   "execution_count": 83,
   "id": "a4405a92-a3a3-4377-9b45-096ffa848a09",
   "metadata": {},
   "outputs": [],
   "source": [
    "def test6(l):\n",
    "    \"\"\"\" THis fucntion gives int or float values in list and list of list \"\"\"\n",
    "    l1=[]\n",
    "    for i in l :\n",
    "        if type(i)==list:\n",
    "            for j in i:\n",
    "                if type(j)== int or type(j) == float:\n",
    "                    l1.append(j)\n",
    "        elif type(i)==int or type(i) == float:\n",
    "            l1.append(i)\n",
    "    return l1\n",
    "            "
   ]
  },
  {
   "cell_type": "code",
   "execution_count": 85,
   "id": "cef95903-3f56-4bfe-8eb4-1989c549217b",
   "metadata": {},
   "outputs": [],
   "source": [
    "# try pressing shift+ tab on the test6(\"here\")  to get the doc string of function like inbuilt "
   ]
  },
  {
   "cell_type": "code",
   "execution_count": 86,
   "id": "28a8c1f5-f9a2-46c1-bdba-a1f22271f280",
   "metadata": {},
   "outputs": [
    {
     "data": {
      "text/plain": [
       "[1, 2, 3, 4, 'srikar', 'vardhan', [1, 2, 3, 4]]"
      ]
     },
     "execution_count": 86,
     "metadata": {},
     "output_type": "execute_result"
    }
   ],
   "source": [
    "l"
   ]
  },
  {
   "cell_type": "code",
   "execution_count": 87,
   "id": "9e94bafb-d3eb-444d-bf60-486e8ce990fd",
   "metadata": {},
   "outputs": [
    {
     "data": {
      "text/plain": [
       "[1, 2, 3, 4, 1, 2, 3, 4]"
      ]
     },
     "execution_count": 87,
     "metadata": {},
     "output_type": "execute_result"
    }
   ],
   "source": [
    "test6(l)"
   ]
  },
  {
   "cell_type": "code",
   "execution_count": 88,
   "id": "cc2e8e60-ad9a-46af-af67-530125d32a4a",
   "metadata": {},
   "outputs": [],
   "source": [
    "def test7(*args):\n",
    "    return args"
   ]
  },
  {
   "cell_type": "code",
   "execution_count": 92,
   "id": "d67a73ae-7f61-4d34-8c81-f1679feddd0d",
   "metadata": {},
   "outputs": [
    {
     "data": {
      "text/plain": [
       "tuple"
      ]
     },
     "execution_count": 92,
     "metadata": {},
     "output_type": "execute_result"
    }
   ],
   "source": [
    "# take as many as input and return them in tules form instead of like many arguments a,b,c,d,e,f,like that \n",
    "type(test7())"
   ]
  },
  {
   "cell_type": "code",
   "execution_count": 93,
   "id": "8dcfa0cb-35c5-48cd-b498-896bfb42384e",
   "metadata": {},
   "outputs": [
    {
     "data": {
      "text/plain": [
       "(1, 2, 3.456, [1, 2])"
      ]
     },
     "execution_count": 93,
     "metadata": {},
     "output_type": "execute_result"
    }
   ],
   "source": [
    "test7(1,2,3.456,[1,2])"
   ]
  },
  {
   "cell_type": "code",
   "execution_count": 94,
   "id": "2c122deb-c8a4-4ee5-abc3-82d389178a53",
   "metadata": {},
   "outputs": [],
   "source": [
    "def test8(*args ,a):\n",
    "    return args,a"
   ]
  },
  {
   "cell_type": "code",
   "execution_count": 95,
   "id": "ce495594-146a-4c22-bce3-7435531b9d42",
   "metadata": {},
   "outputs": [
    {
     "ename": "TypeError",
     "evalue": "test8() missing 1 required keyword-only argument: 'a'",
     "output_type": "error",
     "traceback": [
      "\u001b[1;31m---------------------------------------------------------------------------\u001b[0m",
      "\u001b[1;31mTypeError\u001b[0m                                 Traceback (most recent call last)",
      "Cell \u001b[1;32mIn[95], line 1\u001b[0m\n\u001b[1;32m----> 1\u001b[0m \u001b[43mtest8\u001b[49m\u001b[43m(\u001b[49m\u001b[38;5;241;43m1\u001b[39;49m\u001b[43m,\u001b[49m\u001b[38;5;241;43m2\u001b[39;49m\u001b[43m,\u001b[49m\u001b[38;5;241;43m3\u001b[39;49m\u001b[43m,\u001b[49m\u001b[38;5;241;43m4\u001b[39;49m\u001b[43m)\u001b[49m\n",
      "\u001b[1;31mTypeError\u001b[0m: test8() missing 1 required keyword-only argument: 'a'"
     ]
    }
   ],
   "source": [
    "test8(1,2,3,4)"
   ]
  },
  {
   "cell_type": "code",
   "execution_count": 97,
   "id": "62c1d532-e458-41ab-8bfe-a5c28a4093c4",
   "metadata": {},
   "outputs": [
    {
     "data": {
      "text/plain": [
       "((1, 2, 3, 4), 1)"
      ]
     },
     "execution_count": 97,
     "metadata": {},
     "output_type": "execute_result"
    }
   ],
   "source": [
    "test8(1,2,3,4,a=1)"
   ]
  },
  {
   "cell_type": "code",
   "execution_count": 98,
   "id": "93024424-6960-49cc-b332-1647329036f0",
   "metadata": {},
   "outputs": [],
   "source": [
    "def test9( a,b,c=1,d=2):\n",
    "    return a,b,c,d"
   ]
  },
  {
   "cell_type": "code",
   "execution_count": 99,
   "id": "e8f32e95-4a9f-4042-b642-aea7d3e0515f",
   "metadata": {},
   "outputs": [
    {
     "ename": "TypeError",
     "evalue": "test9() missing 2 required positional arguments: 'a' and 'b'",
     "output_type": "error",
     "traceback": [
      "\u001b[1;31m---------------------------------------------------------------------------\u001b[0m",
      "\u001b[1;31mTypeError\u001b[0m                                 Traceback (most recent call last)",
      "Cell \u001b[1;32mIn[99], line 1\u001b[0m\n\u001b[1;32m----> 1\u001b[0m \u001b[43mtest9\u001b[49m\u001b[43m(\u001b[49m\u001b[43m)\u001b[49m\n",
      "\u001b[1;31mTypeError\u001b[0m: test9() missing 2 required positional arguments: 'a' and 'b'"
     ]
    }
   ],
   "source": [
    "test9()"
   ]
  },
  {
   "cell_type": "code",
   "execution_count": 102,
   "id": "aa4e16ba-a417-43d2-acdb-d1670bf127a4",
   "metadata": {},
   "outputs": [
    {
     "data": {
      "text/plain": [
       "(3, 4, 1, 2)"
      ]
     },
     "execution_count": 102,
     "metadata": {},
     "output_type": "execute_result"
    }
   ],
   "source": [
    "test9(3,4)"
   ]
  },
  {
   "cell_type": "code",
   "execution_count": 104,
   "id": "c9e33c3b-90f2-45e6-ac23-643d64b6ad7f",
   "metadata": {},
   "outputs": [
    {
     "data": {
      "text/plain": [
       "(3, 5, 102, 2)"
      ]
     },
     "execution_count": 104,
     "metadata": {},
     "output_type": "execute_result"
    }
   ],
   "source": [
    "test9(3,5,c=102)"
   ]
  },
  {
   "cell_type": "code",
   "execution_count": 105,
   "id": "315a1acd-af55-48aa-b950-1dfc9f4e7cd8",
   "metadata": {},
   "outputs": [],
   "source": [
    "d= {'key1':1,'key2':2,'key3':3,'key4':4,'key5':5}"
   ]
  },
  {
   "cell_type": "code",
   "execution_count": 112,
   "id": "6c5d2fc5-dc41-4494-8378-b31c6f6a9872",
   "metadata": {},
   "outputs": [],
   "source": [
    "def test10 (**kwargs):\n",
    "    return kwargs"
   ]
  },
  {
   "cell_type": "code",
   "execution_count": 113,
   "id": "0c986c42-f2b5-4f1d-9c6f-1f82e8fced6d",
   "metadata": {},
   "outputs": [
    {
     "data": {
      "text/plain": [
       "dict"
      ]
     },
     "execution_count": 113,
     "metadata": {},
     "output_type": "execute_result"
    }
   ],
   "source": [
    "type(test10())"
   ]
  },
  {
   "cell_type": "code",
   "execution_count": 114,
   "id": "0a201ff9-c6a3-4da1-a423-a6c643d74d4c",
   "metadata": {},
   "outputs": [
    {
     "ename": "TypeError",
     "evalue": "test10() takes 0 positional arguments but 1 was given",
     "output_type": "error",
     "traceback": [
      "\u001b[1;31m---------------------------------------------------------------------------\u001b[0m",
      "\u001b[1;31mTypeError\u001b[0m                                 Traceback (most recent call last)",
      "Cell \u001b[1;32mIn[114], line 1\u001b[0m\n\u001b[1;32m----> 1\u001b[0m \u001b[43mtest10\u001b[49m\u001b[43m(\u001b[49m\u001b[43md\u001b[49m\u001b[43m)\u001b[49m\n",
      "\u001b[1;31mTypeError\u001b[0m: test10() takes 0 positional arguments but 1 was given"
     ]
    }
   ],
   "source": [
    "test10(d)"
   ]
  },
  {
   "cell_type": "code",
   "execution_count": 116,
   "id": "92c166e0-ab71-4f4b-8c80-f691bd008be8",
   "metadata": {},
   "outputs": [
    {
     "data": {
      "text/plain": [
       "{'key1': 1, 'key2': 2, 'key3': 3, 'key4': 4, 'key5': 5}"
      ]
     },
     "execution_count": 116,
     "metadata": {},
     "output_type": "execute_result"
    }
   ],
   "source": [
    "test10(key1=1,key2=2,key3=3,key4=4,key5=5)"
   ]
  },
  {
   "cell_type": "code",
   "execution_count": 129,
   "id": "06e7f76f-8c44-418f-bbfa-776687b65acd",
   "metadata": {},
   "outputs": [],
   "source": [
    "import time \n",
    "\n",
    "def time_test(func):\n",
    "    def time_test_inner():\n",
    "        start=time.time()\n",
    "        func()\n",
    "        end=time.time()\n",
    "        print(start-end)\n",
    "    return time_test_inner\n"
   ]
  },
  {
   "cell_type": "code",
   "execution_count": 130,
   "id": "d6dba454-922c-4cba-a8ad-0f2a06d17889",
   "metadata": {},
   "outputs": [],
   "source": [
    "@time_test\n",
    "def cal():\n",
    "    print(2+3+4+5+5)\n",
    "    "
   ]
  },
  {
   "cell_type": "code",
   "execution_count": 131,
   "id": "772783af-78fe-4879-8cbd-af57e6f2c781",
   "metadata": {},
   "outputs": [
    {
     "name": "stdout",
     "output_type": "stream",
     "text": [
      "19\n",
      "0.0\n"
     ]
    }
   ],
   "source": [
    "cal()"
   ]
  },
  {
   "cell_type": "code",
   "execution_count": null,
   "id": "eaa4696b-a55f-4d98-a703-04f57058f755",
   "metadata": {},
   "outputs": [],
   "source": []
  }
 ],
 "metadata": {
  "kernelspec": {
   "display_name": "Python 3 (ipykernel)",
   "language": "python",
   "name": "python3"
  },
  "language_info": {
   "codemirror_mode": {
    "name": "ipython",
    "version": 3
   },
   "file_extension": ".py",
   "mimetype": "text/x-python",
   "name": "python",
   "nbconvert_exporter": "python",
   "pygments_lexer": "ipython3",
   "version": "3.12.4"
  }
 },
 "nbformat": 4,
 "nbformat_minor": 5
}
