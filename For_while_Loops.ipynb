{
 "cells": [
  {
   "cell_type": "code",
   "execution_count": 1,
   "id": "3ead95c5-0644-4cef-8201-421abfe25d01",
   "metadata": {},
   "outputs": [],
   "source": [
    "a=[1,2,3,4,5,6,7,5,4,3]"
   ]
  },
  {
   "cell_type": "code",
   "execution_count": 6,
   "id": "9a4b90f9-23d1-46bd-9cf1-c65ba859ca29",
   "metadata": {},
   "outputs": [],
   "source": [
    "b=['a','bc','def','ghij']"
   ]
  },
  {
   "cell_type": "code",
   "execution_count": 11,
   "id": "a5b7d08c-a1ad-43e9-adab-bd562ef68655",
   "metadata": {},
   "outputs": [],
   "source": [
    "c=\"andaman\""
   ]
  },
  {
   "cell_type": "code",
   "execution_count": 12,
   "id": "545eb07c-480a-4fd1-a3a1-53d1536035b0",
   "metadata": {},
   "outputs": [
    {
     "name": "stdout",
     "output_type": "stream",
     "text": [
      "1\n",
      "2\n",
      "3\n",
      "4\n",
      "5\n",
      "6\n",
      "7\n",
      "5\n",
      "4\n",
      "3\n"
     ]
    }
   ],
   "source": [
    "for i in a:\n",
    "    print(i)"
   ]
  },
  {
   "cell_type": "code",
   "execution_count": 13,
   "id": "8eebd1a7-3e02-419b-999c-56d697161826",
   "metadata": {},
   "outputs": [
    {
     "name": "stdout",
     "output_type": "stream",
     "text": [
      "a\n",
      "bc\n",
      "def\n",
      "ghij\n"
     ]
    }
   ],
   "source": [
    "for i in b:\n",
    "    print(i)"
   ]
  },
  {
   "cell_type": "code",
   "execution_count": 14,
   "id": "d4d11584-d41b-4bbf-98b7-047500efa4c8",
   "metadata": {},
   "outputs": [
    {
     "name": "stdout",
     "output_type": "stream",
     "text": [
      "a\n",
      "n\n",
      "d\n",
      "a\n",
      "m\n",
      "a\n",
      "n\n"
     ]
    }
   ],
   "source": [
    "for i in c:\n",
    "    print(i)"
   ]
  },
  {
   "cell_type": "code",
   "execution_count": 15,
   "id": "6f4f5889-d050-4eff-addc-e9772e1d811a",
   "metadata": {},
   "outputs": [
    {
     "name": "stdout",
     "output_type": "stream",
     "text": [
      "0 a\n",
      "1 bc\n",
      "2 def\n",
      "3 ghij\n"
     ]
    }
   ],
   "source": [
    "for i,j in enumerate(b) :\n",
    "    print(i,j)"
   ]
  },
  {
   "cell_type": "code",
   "execution_count": 21,
   "id": "dcd46fe0-e64f-455c-8ed4-b7180b6a4d71",
   "metadata": {},
   "outputs": [
    {
     "name": "stdout",
     "output_type": "stream",
     "text": [
      "(0, 'a')\n",
      "0\n",
      "a\n",
      "(1, 'bc')\n",
      "1\n",
      "bc\n",
      "(2, 'def')\n",
      "2\n",
      "def\n",
      "(3, 'ghij')\n",
      "3\n",
      "ghij\n"
     ]
    }
   ],
   "source": [
    "for i in enumerate(b) :\n",
    "    print(i)\n",
    "    print(i[0])\n",
    "    print(i[1])"
   ]
  },
  {
   "cell_type": "code",
   "execution_count": 25,
   "id": "7046d690-60c5-4bb7-b984-f44f5cd633d6",
   "metadata": {},
   "outputs": [],
   "source": [
    "a1=-4"
   ]
  },
  {
   "cell_type": "code",
   "execution_count": 26,
   "id": "3b485499-25e8-4a6b-9311-173e55f136fb",
   "metadata": {},
   "outputs": [
    {
     "name": "stdout",
     "output_type": "stream",
     "text": [
      "human\n"
     ]
    }
   ],
   "source": [
    "if a1>0 :\n",
    "    print('god')\n",
    "elif  a1==0 :\n",
    "    print('devil')\n",
    "else :\n",
    "    print('human')\n"
   ]
  },
  {
   "cell_type": "code",
   "execution_count": 34,
   "id": "ee24a3f6-6cb0-485a-93ed-ba753994490c",
   "metadata": {},
   "outputs": [
    {
     "name": "stdout",
     "output_type": "stream",
     "text": [
      "Entry allowed.\n"
     ]
    }
   ],
   "source": [
    "age = 20\n",
    "has_id = True\n",
    "\n",
    "if not(age>30) :\n",
    "    print(\"Entry allowed.\")\n",
    "else:\n",
    "    print(\"Access denied.\")\n"
   ]
  },
  {
   "cell_type": "code",
   "execution_count": 36,
   "id": "93a347e3-69dd-4cb3-ab5b-942dcbe66bb1",
   "metadata": {},
   "outputs": [
    {
     "name": "stdout",
     "output_type": "stream",
     "text": [
      "god\n",
      "god\n",
      "god\n",
      "god\n",
      "god\n"
     ]
    }
   ],
   "source": [
    "while age>15 :\n",
    "    print('god')\n",
    "    age=age-1"
   ]
  },
  {
   "cell_type": "code",
   "execution_count": 38,
   "id": "4a494751-c390-4c88-b724-9a3b8fdb0a83",
   "metadata": {},
   "outputs": [],
   "source": [
    "def exp(s,r):\n",
    "    return s**r"
   ]
  },
  {
   "cell_type": "code",
   "execution_count": 39,
   "id": "c2161fbc-d73a-41bc-8de1-b53c7818abc2",
   "metadata": {},
   "outputs": [
    {
     "data": {
      "text/plain": [
       "25"
      ]
     },
     "execution_count": 39,
     "metadata": {},
     "output_type": "execute_result"
    }
   ],
   "source": [
    "exp(5,2)"
   ]
  },
  {
   "cell_type": "code",
   "execution_count": 40,
   "id": "3e9d7295-c563-49aa-b1db-b5e498917d36",
   "metadata": {},
   "outputs": [],
   "source": [
    "q= lambda w,e:w**e"
   ]
  },
  {
   "cell_type": "code",
   "execution_count": 41,
   "id": "eb636a97-b1c6-4370-810e-0334f1a2552a",
   "metadata": {},
   "outputs": [
    {
     "data": {
      "text/plain": [
       "8"
      ]
     },
     "execution_count": 41,
     "metadata": {},
     "output_type": "execute_result"
    }
   ],
   "source": [
    "q(2,3)"
   ]
  },
  {
   "cell_type": "code",
   "execution_count": 42,
   "id": "de4ef698-d21d-4168-bc89-2b8684592829",
   "metadata": {},
   "outputs": [],
   "source": [
    "c_f = lambda c : 9/5*c+32"
   ]
  },
  {
   "cell_type": "code",
   "execution_count": 43,
   "id": "21559db4-51b5-4d38-ab55-e7d163c8fb20",
   "metadata": {},
   "outputs": [
    {
     "data": {
      "text/plain": [
       "68.0"
      ]
     },
     "execution_count": 43,
     "metadata": {},
     "output_type": "execute_result"
    }
   ],
   "source": [
    "c_f(20)"
   ]
  },
  {
   "cell_type": "code",
   "execution_count": 47,
   "id": "adb12e19-409d-48f4-9da9-f4c971762a4c",
   "metadata": {},
   "outputs": [],
   "source": [
    "min1 = lambda x,y : y if x>y else x"
   ]
  },
  {
   "cell_type": "code",
   "execution_count": 48,
   "id": "0a72c85d-0d6c-429c-9598-ee751d8cd036",
   "metadata": {},
   "outputs": [
    {
     "data": {
      "text/plain": [
       "3"
      ]
     },
     "execution_count": 48,
     "metadata": {},
     "output_type": "execute_result"
    }
   ],
   "source": [
    "min1(23,3)"
   ]
  },
  {
   "cell_type": "code",
   "execution_count": 49,
   "id": "bc74a04b-69a0-4b2a-a1a6-4abfb33978b6",
   "metadata": {},
   "outputs": [],
   "source": [
    "#value_if_true if condition else value_if_false\n"
   ]
  },
  {
   "cell_type": "code",
   "execution_count": null,
   "id": "27f64cd4-c4ea-46d7-b41f-a486e3d64baf",
   "metadata": {},
   "outputs": [],
   "source": []
  }
 ],
 "metadata": {
  "kernelspec": {
   "display_name": "Python 3 (ipykernel)",
   "language": "python",
   "name": "python3"
  },
  "language_info": {
   "codemirror_mode": {
    "name": "ipython",
    "version": 3
   },
   "file_extension": ".py",
   "mimetype": "text/x-python",
   "name": "python",
   "nbconvert_exporter": "python",
   "pygments_lexer": "ipython3",
   "version": "3.12.4"
  }
 },
 "nbformat": 4,
 "nbformat_minor": 5
}
