{
 "cells": [
  {
   "cell_type": "code",
   "execution_count": 1,
   "id": "db6faf39-9e5f-4e8f-8cb3-afb37462b613",
   "metadata": {},
   "outputs": [],
   "source": [
    "class test :\n",
    "    pass"
   ]
  },
  {
   "cell_type": "code",
   "execution_count": 2,
   "id": "bff2ed21-10d9-4072-8c3a-55567380158e",
   "metadata": {},
   "outputs": [],
   "source": [
    "a= test()"
   ]
  },
  {
   "cell_type": "code",
   "execution_count": 3,
   "id": "82cbb0bd-585f-4426-91cc-f3b42ede0d2f",
   "metadata": {},
   "outputs": [
    {
     "data": {
      "text/plain": [
       "__main__.test"
      ]
     },
     "execution_count": 3,
     "metadata": {},
     "output_type": "execute_result"
    }
   ],
   "source": [
    "type(a)"
   ]
  },
  {
   "cell_type": "code",
   "execution_count": 4,
   "id": "654a879b-b693-47b3-a6fe-53f9fbadc2de",
   "metadata": {},
   "outputs": [
    {
     "name": "stdout",
     "output_type": "stream",
     "text": [
      "<class '__main__.test'>\n"
     ]
    }
   ],
   "source": [
    "print(type(a))"
   ]
  },
  {
   "cell_type": "code",
   "execution_count": 16,
   "id": "09db6dab-1f3c-4176-b1df-f0591300eb64",
   "metadata": {},
   "outputs": [],
   "source": [
    "class skills:\n",
    "    def welcome(self):\n",
    "        print(\"welcome\")\n",
    "    # this here \"self\" means we are binding this def to  the class"
   ]
  },
  {
   "cell_type": "code",
   "execution_count": 17,
   "id": "a00c8ef2-6875-4bcd-a3c8-2ef15cd5ca97",
   "metadata": {},
   "outputs": [],
   "source": [
    "var= skills()"
   ]
  },
  {
   "cell_type": "code",
   "execution_count": 18,
   "id": "dd54a708-9eb0-48e9-9a3d-5f86d53e5f19",
   "metadata": {},
   "outputs": [
    {
     "name": "stdout",
     "output_type": "stream",
     "text": [
      "<class '__main__.skills'>\n"
     ]
    }
   ],
   "source": [
    "print(type(var))"
   ]
  },
  {
   "cell_type": "code",
   "execution_count": 15,
   "id": "0c33558c-f703-44a7-9b8c-2582e9527fa6",
   "metadata": {},
   "outputs": [
    {
     "name": "stdout",
     "output_type": "stream",
     "text": [
      "welcome\n"
     ]
    }
   ],
   "source": [
    "var.welcome()"
   ]
  },
  {
   "cell_type": "code",
   "execution_count": 19,
   "id": "c3530ed4-ad5e-4a5e-b092-519afb2cadd9",
   "metadata": {},
   "outputs": [],
   "source": [
    "# __init__ is known as constructor we use this when we want to pass data from objects "
   ]
  },
  {
   "cell_type": "code",
   "execution_count": 22,
   "id": "ce69cfcc-727b-48b2-abb4-bb2dd3990b4a",
   "metadata": {},
   "outputs": [],
   "source": [
    "class details:\n",
    "    def __init__(self,phone,email,student):\n",
    "        self.phone=phone\n",
    "        self.email=email\n",
    "        self.student=student\n",
    "    def return_details(self):\n",
    "        return self.phone ,self.email,self.student"
   ]
  },
  {
   "cell_type": "code",
   "execution_count": 23,
   "id": "38d3de83-8394-4b8d-829b-7de7189cf407",
   "metadata": {},
   "outputs": [],
   "source": [
    "srikar=details(7386666379,\"srikarvardhan20052gmail.com\",2212022)"
   ]
  },
  {
   "cell_type": "code",
   "execution_count": 24,
   "id": "338d093d-3f9b-45b3-953f-975a95d4b199",
   "metadata": {},
   "outputs": [
    {
     "data": {
      "text/plain": [
       "<__main__.details at 0x2221be55a60>"
      ]
     },
     "execution_count": 24,
     "metadata": {},
     "output_type": "execute_result"
    }
   ],
   "source": [
    "srikar"
   ]
  },
  {
   "cell_type": "code",
   "execution_count": 29,
   "id": "b48cb724-96bd-4e76-9f71-a15b2730c296",
   "metadata": {},
   "outputs": [
    {
     "data": {
      "text/plain": [
       "(7386666379, 'srikarvardhan20052gmail.com', 2212022)"
      ]
     },
     "execution_count": 29,
     "metadata": {},
     "output_type": "execute_result"
    }
   ],
   "source": [
    "srikar.return_details()"
   ]
  },
  {
   "cell_type": "code",
   "execution_count": 58,
   "id": "53f3dede-7dd8-4c3e-9d87-d0174083b912",
   "metadata": {},
   "outputs": [],
   "source": [
    "class details1:\n",
    "    def __init__(self,phone,email,student):\n",
    "        self.phone=phone\n",
    "        self.email=email\n",
    "        self.student=student\n",
    "\n",
    "    @classmethod\n",
    "    def details(cls,phone,email,student):\n",
    "        return cls(phone,email,student)\n",
    "        \n",
    "    def return_details(self):\n",
    "        return self.phone ,self.email,self.student"
   ]
  },
  {
   "cell_type": "code",
   "execution_count": 59,
   "id": "26d8103f-50b3-41ee-a212-ef98d793445f",
   "metadata": {},
   "outputs": [],
   "source": [
    "srija=details1.details(738666,\"dbcahd\",2232)"
   ]
  },
  {
   "cell_type": "code",
   "execution_count": 45,
   "id": "73bb80d9-86d6-4fee-8646-170bb040d2bb",
   "metadata": {},
   "outputs": [
    {
     "data": {
      "text/plain": [
       "<__main__.details1 at 0x2221d8d9a30>"
      ]
     },
     "execution_count": 45,
     "metadata": {},
     "output_type": "execute_result"
    }
   ],
   "source": [
    "srija.details(738666,\"dbcahd\",2232)"
   ]
  },
  {
   "cell_type": "code",
   "execution_count": 46,
   "id": "80f74567-0452-4fec-b952-b297260a6e05",
   "metadata": {},
   "outputs": [
    {
     "data": {
      "text/plain": [
       "[__main__.details1, object]"
      ]
     },
     "execution_count": 46,
     "metadata": {},
     "output_type": "execute_result"
    }
   ],
   "source": [
    "srija.mro()"
   ]
  },
  {
   "cell_type": "code",
   "execution_count": 47,
   "id": "4f5d08e8-c547-4bf6-9d08-ad3da687aec2",
   "metadata": {},
   "outputs": [
    {
     "name": "stdout",
     "output_type": "stream",
     "text": [
      "[<class '__main__.details1'>, <class 'object'>]\n"
     ]
    }
   ],
   "source": [
    "print(srija.mro())"
   ]
  },
  {
   "cell_type": "code",
   "execution_count": 50,
   "id": "b6efc1d1-e807-4da1-8d94-4cf543053352",
   "metadata": {},
   "outputs": [
    {
     "data": {
      "text/plain": [
       "(738666, 'dbcahd', 2232)"
      ]
     },
     "execution_count": 50,
     "metadata": {},
     "output_type": "execute_result"
    }
   ],
   "source": [
    "srija.return_details()"
   ]
  },
  {
   "cell_type": "code",
   "execution_count": 38,
   "id": "3ea8c5c2-247f-4f31-afd7-52e2a6f793c1",
   "metadata": {},
   "outputs": [],
   "source": [
    "class skills :\n",
    "    mobile_num = 912342424\n",
    "\n",
    "    def __init__(self , name , email) :\n",
    "        self.name = name\n",
    "        self.email = email\n",
    "\n",
    "    @classmethod\n",
    "    def change_number(cls, mobile):\n",
    "         skills.mobile_num = mobile\n",
    "\n",
    "    @classmethod\n",
    "    def details(cls ,name, email ):\n",
    "        return cls(name , email)\n",
    "\n",
    "    def students_details(self):\n",
    "         print(self.name , self.email,self.mobile_num)"
   ]
  },
  {
   "cell_type": "code",
   "execution_count": 39,
   "id": "a41d18c3-26c1-4770-8156-7296c2cbe2b0",
   "metadata": {},
   "outputs": [],
   "source": [
    "srikar= skills('srikar','srikar@gmail.com')"
   ]
  },
  {
   "cell_type": "code",
   "execution_count": 40,
   "id": "1b6bef43-2510-4707-b8a8-524375e3ded0",
   "metadata": {},
   "outputs": [
    {
     "name": "stdout",
     "output_type": "stream",
     "text": [
      "srikar srikar@gmail.com 912342424\n"
     ]
    }
   ],
   "source": [
    "srikar.students_details()"
   ]
  },
  {
   "cell_type": "raw",
   "id": "a816e339-2418-4343-9bd1-69158b80980f",
   "metadata": {},
   "source": [
    "# Creating object using constructor\n",
    "s1 = skills(\"Sky Father\", \"sky@olympus.com\")\n",
    "s1.students_details()  # Output: Sky Father sky@olympus.com 912342424\n",
    "\n",
    "# Creating object using class method (factory)\n",
    "s2 = skills.details(\"Zeus\", \"zeus@olympus.com\")\n",
    "s2.students_details()  # Output: Zeus zeus@olympus.com 912342424\n"
   ]
  },
  {
   "cell_type": "code",
   "execution_count": 64,
   "id": "6efa4ae8-d3b6-477e-ac29-306d727c322c",
   "metadata": {},
   "outputs": [
    {
     "name": "stdout",
     "output_type": "stream",
     "text": [
      "Sky Father sky@olympus.com 345\n",
      "Zeus zeus@olympus.com 345\n"
     ]
    }
   ],
   "source": [
    "# Creating object using constructor\n",
    "s1 = skills(\"Sky Father\", \"sky@olympus.com\")\n",
    "s1.students_details()  # Output: Sky Father sky@olympus.com 912342424\n",
    "\n",
    "# Creating object using class method (factory)\n",
    "s2 = skills.details(\"Zeus\", \"zeus@olympus.com\")\n",
    "s2.students_details()  # Output: Zeus zeus@olympus.com 912342424\n"
   ]
  },
  {
   "cell_type": "code",
   "execution_count": 42,
   "id": "6e5bf62a-6e79-424a-b7fe-850efe228245",
   "metadata": {},
   "outputs": [],
   "source": [
    "srikar.change_number(23111)   #by using this i am changing the mobile no variable for all the created objects from one object \n"
   ]
  },
  {
   "cell_type": "code",
   "execution_count": 68,
   "id": "2ba06a28-c3fb-45c5-b4f7-1f189f811e78",
   "metadata": {},
   "outputs": [
    {
     "name": "stdout",
     "output_type": "stream",
     "text": [
      "Sky Father sky@olympus.com 346\n",
      "Zeus zeus@olympus.com 346\n"
     ]
    }
   ],
   "source": [
    "s1.students_details()\n",
    "s2.students_details()"
   ]
  },
  {
   "cell_type": "code",
   "execution_count": 69,
   "id": "857825c5-7bfc-40fc-996b-1f5af2460bb9",
   "metadata": {},
   "outputs": [],
   "source": [
    "s2.mobile_num=23445  # see now this only reflects on one vobject itself not on whole class "
   ]
  },
  {
   "cell_type": "code",
   "execution_count": 70,
   "id": "551124e9-86e0-46c0-9e94-64c030fb1b1f",
   "metadata": {},
   "outputs": [
    {
     "name": "stdout",
     "output_type": "stream",
     "text": [
      "Sky Father sky@olympus.com 346\n",
      "Zeus zeus@olympus.com 23445\n"
     ]
    }
   ],
   "source": [
    "s1.students_details()\n",
    "s2.students_details()"
   ]
  },
  {
   "cell_type": "code",
   "execution_count": 71,
   "id": "aa388332-58a0-449e-af54-f572e54cc362",
   "metadata": {},
   "outputs": [],
   "source": [
    "skills.mobile_num=346    # this change to above class itself also reflect on the objects "
   ]
  },
  {
   "cell_type": "code",
   "execution_count": 72,
   "id": "a092001b-b903-4a54-bf4d-8fa5f633edf3",
   "metadata": {},
   "outputs": [
    {
     "name": "stdout",
     "output_type": "stream",
     "text": [
      "Sky Father sky@olympus.com 346\n",
      "Zeus zeus@olympus.com 23445\n"
     ]
    }
   ],
   "source": [
    "s1.students_details()\n",
    "s2.students_details()"
   ]
  },
  {
   "cell_type": "code",
   "execution_count": 73,
   "id": "45751897-f20c-4338-bbf2-1574e2696b4a",
   "metadata": {},
   "outputs": [],
   "source": [
    "class skills1 :\n",
    "    mobile_num = 912342424\n",
    "\n",
    "    def __init__(self , name , email) :\n",
    "        self.name = name\n",
    "        self.email = email\n",
    "\n",
    "    @classmethod\n",
    "    def change_number(cls, mobile):\n",
    "         skills.mobile_num = mobile\n",
    "\n",
    "    @classmethod\n",
    "    def details(cls ,name, email ):\n",
    "        return cls(name , email)\n",
    "\n",
    "    def students_details(self):\n",
    "         print(self.name , self.email,self.mobile_num)"
   ]
  },
  {
   "cell_type": "code",
   "execution_count": 74,
   "id": "8a6e7201-900d-4cb1-904c-6d60f87f6ecd",
   "metadata": {},
   "outputs": [],
   "source": [
    "def course_details():\n",
    "    print(\"i am being added\")\n"
   ]
  },
  {
   "cell_type": "code",
   "execution_count": 75,
   "id": "2693c33d-259c-4b42-929d-12a5e8595607",
   "metadata": {},
   "outputs": [],
   "source": [
    "skills1.course_details = classmethod(course_details)"
   ]
  },
  {
   "cell_type": "code",
   "execution_count": 77,
   "id": "64a58cd6-99e4-4cc1-b7e4-368ff035615f",
   "metadata": {},
   "outputs": [],
   "source": [
    "del skills1.details"
   ]
  },
  {
   "cell_type": "code",
   "execution_count": 80,
   "id": "c6800dad-9c74-4995-b531-cf95401254d6",
   "metadata": {},
   "outputs": [],
   "source": [
    "delattr(skills1,\"students_details\")"
   ]
  },
  {
   "cell_type": "code",
   "execution_count": 81,
   "id": "f5941c07-35aa-43b7-a25e-dfccfbbff9ef",
   "metadata": {},
   "outputs": [],
   "source": [
    "class Skills:\n",
    "    mobile_num = 912342424  # Class variable\n",
    "\n",
    "    def __init__(self, name, email):\n",
    "        self.name = name\n",
    "        self.email = email\n",
    "\n",
    "    def student_details(self):  # Instance method\n",
    "        print(f\"Name: {self.name}, Email: {self.email}, Mobile: {self.mobile_num}\")\n",
    "\n",
    "    @classmethod\n",
    "    def change_number(cls, new_number):  # Class method\n",
    "        cls.mobile_num = new_number\n",
    "\n",
    "    @classmethod\n",
    "    def create_from_string(cls, data_str):  # Class method for object creation\n",
    "        name, email = data_str.split(',')\n",
    "        return cls(name.strip(), email.strip())\n",
    "\n",
    "    @staticmethod\n",
    "    def validate_email(email):  # Static method\n",
    "        return \"@\" in email and \".\" in email\n"
   ]
  },
  {
   "cell_type": "code",
   "execution_count": 82,
   "id": "962a29f7-0779-4f46-b46d-e421e4634c0f",
   "metadata": {},
   "outputs": [],
   "source": [
    "s1 = Skills(\"Sky Father\", \"sky@olympus.com\")\n",
    "s2 = Skills.create_from_string(\"Zeus , zeus@olympus.com\")  # using class method\n"
   ]
  },
  {
   "cell_type": "code",
   "execution_count": 83,
   "id": "b23b7cad-be56-413f-9fdb-4af1cc619b7a",
   "metadata": {},
   "outputs": [
    {
     "name": "stdout",
     "output_type": "stream",
     "text": [
      "Name: Sky Father, Email: sky@olympus.com, Mobile: 912342424\n",
      "Name: Zeus, Email: zeus@olympus.com, Mobile: 912342424\n"
     ]
    }
   ],
   "source": [
    "s1.student_details()\n",
    "s2.student_details()\n"
   ]
  },
  {
   "cell_type": "code",
   "execution_count": 84,
   "id": "2ef458e3-7f52-42b0-b498-5bcba6b79661",
   "metadata": {},
   "outputs": [
    {
     "name": "stdout",
     "output_type": "stream",
     "text": [
      "Name: Sky Father, Email: sky@olympus.com, Mobile: 123456789\n",
      "Name: Zeus, Email: zeus@olympus.com, Mobile: 123456789\n"
     ]
    }
   ],
   "source": [
    "Skills.change_number(123456789)  # Reflects in all instances\n",
    "s1.student_details()\n",
    "s2.student_details()\n"
   ]
  },
  {
   "cell_type": "code",
   "execution_count": 85,
   "id": "2f03e2ec-dd66-4220-ad65-d8a4ac9d13f1",
   "metadata": {},
   "outputs": [
    {
     "name": "stdout",
     "output_type": "stream",
     "text": [
      "True\n",
      "False\n"
     ]
    }
   ],
   "source": [
    "print(Skills.validate_email(\"sky@olympus.com\"))   # ✅ True\n",
    "print(Skills.validate_email(\"zeus.olympus.com\"))  # ❌ False\n"
   ]
  },
  {
   "cell_type": "code",
   "execution_count": 86,
   "id": "0dae9fc6-11a7-439d-881a-94d470ec5d5f",
   "metadata": {},
   "outputs": [
    {
     "name": "stdout",
     "output_type": "stream",
     "text": [
      "True\n"
     ]
    }
   ],
   "source": [
    "class User:\n",
    "    def __init__(self, name, email):\n",
    "        self.name = name\n",
    "        self.email = email\n",
    "\n",
    "    def validate_email(self, email):\n",
    "        return \"@\" in email and \".\" in email\n",
    "\n",
    "# Now you must create an object just to validate an email\n",
    "u = User(\"Sky Father\", \"sky@olympus.com\")\n",
    "print(u.validate_email(\"test@domain.com\"))  # ✅ True\n"
   ]
  },
  {
   "cell_type": "code",
   "execution_count": 87,
   "id": "4f7f2244-9698-4bb2-aee3-41c15dcece93",
   "metadata": {},
   "outputs": [],
   "source": [
    "# above we have to create an object just to check the logic but we dont need to do that all "
   ]
  },
  {
   "cell_type": "code",
   "execution_count": 88,
   "id": "5708249e-10bf-4cf2-bbe9-af516d10c39f",
   "metadata": {},
   "outputs": [
    {
     "name": "stdout",
     "output_type": "stream",
     "text": [
      "True\n"
     ]
    }
   ],
   "source": [
    "class User:\n",
    "    @staticmethod\n",
    "    def validate_email(email):\n",
    "        return \"@\" in email and \".\" in email\n",
    "\n",
    "# No need to create an object!\n",
    "print(User.validate_email(\"test@domain.com\"))  # ✅ True\n"
   ]
  },
  {
   "cell_type": "code",
   "execution_count": 96,
   "id": "36a32177-44eb-4ba2-a64e-6656e4ab8387",
   "metadata": {},
   "outputs": [],
   "source": [
    "def add(a,b):\n",
    "    return a+b\n",
    "\n",
    "    #polymorphism same function different outcomes "
   ]
  },
  {
   "cell_type": "code",
   "execution_count": 97,
   "id": "b8e4cdfd-f77e-45bd-9395-a859ad90eba9",
   "metadata": {},
   "outputs": [
    {
     "data": {
      "text/plain": [
       "5"
      ]
     },
     "execution_count": 97,
     "metadata": {},
     "output_type": "execute_result"
    }
   ],
   "source": [
    "add(2,3)"
   ]
  },
  {
   "cell_type": "code",
   "execution_count": 98,
   "id": "43d82d88-c7fc-4ee3-8484-080a5cfbc5dd",
   "metadata": {},
   "outputs": [
    {
     "data": {
      "text/plain": [
       "'srikar'"
      ]
     },
     "execution_count": 98,
     "metadata": {},
     "output_type": "execute_result"
    }
   ],
   "source": [
    "add(\"sri\",\"kar\")"
   ]
  },
  {
   "cell_type": "code",
   "execution_count": 99,
   "id": "6693cca8-7428-4395-a4fb-e83b14161774",
   "metadata": {},
   "outputs": [
    {
     "data": {
      "text/plain": [
       "[1, 2, 3, 2, 3, 4]"
      ]
     },
     "execution_count": 99,
     "metadata": {},
     "output_type": "execute_result"
    }
   ],
   "source": [
    "add([1,2,3],[2,3,4])"
   ]
  },
  {
   "cell_type": "code",
   "execution_count": 100,
   "id": "34380ca4-6836-41da-8bd5-56ee6ccc32af",
   "metadata": {},
   "outputs": [],
   "source": [
    "class BankAccount:\n",
    "    def __init__(self, name, balance):\n",
    "        self.name = name              # Public\n",
    "        self.__balance = balance      # Private\n",
    "\n",
    "    def deposit(self, amount):\n",
    "        if amount > 0:\n",
    "            self.__balance += amount\n",
    "            print(f\"Deposited ₹{amount}\")\n",
    "        else:\n",
    "            print(\"Invalid amount!\")\n",
    "\n",
    "    def withdraw(self, amount):\n",
    "        if amount > 0 and self.__balance >= amount:\n",
    "            self.__balance -= amount\n",
    "            print(f\"Withdrew ₹{amount}\")\n",
    "        else:\n",
    "            print(\"Insufficient funds or invalid amount\")\n",
    "\n",
    "    def get_balance(self):\n",
    "        return self.__balance  # Accessing private variable safely\n",
    "\n",
    "    def set_balance(self, new_balance):\n",
    "        if new_balance >= 0:\n",
    "            self.__balance = new_balance\n",
    "        else:\n",
    "            print(\"Balance can't be negative!\")\n"
   ]
  },
  {
   "cell_type": "code",
   "execution_count": 102,
   "id": "f1ae79f2-a78d-4271-81d7-409b3418bbf6",
   "metadata": {},
   "outputs": [
    {
     "name": "stdout",
     "output_type": "stream",
     "text": [
      "Deposited ₹2000\n",
      "Withdrew ₹1000\n",
      "6000\n",
      "Balance can't be negative!\n",
      "6000\n"
     ]
    },
    {
     "ename": "AttributeError",
     "evalue": "'BankAccount' object has no attribute '__balance'",
     "output_type": "error",
     "traceback": [
      "\u001b[1;31m---------------------------------------------------------------------------\u001b[0m",
      "\u001b[1;31mAttributeError\u001b[0m                            Traceback (most recent call last)",
      "Cell \u001b[1;32mIn[102], line 11\u001b[0m\n\u001b[0;32m      8\u001b[0m \u001b[38;5;28mprint\u001b[39m(acc\u001b[38;5;241m.\u001b[39mget_balance())     \u001b[38;5;66;03m# ✅ Still 6000\u001b[39;00m\n\u001b[0;32m     10\u001b[0m \u001b[38;5;66;03m# 🔒 Can't access private variable directly:\u001b[39;00m\n\u001b[1;32m---> 11\u001b[0m \u001b[38;5;28mprint\u001b[39m(\u001b[43macc\u001b[49m\u001b[38;5;241;43m.\u001b[39;49m\u001b[43m__balance\u001b[49m)         \u001b[38;5;66;03m# ❌ AttributeError\u001b[39;00m\n\u001b[0;32m     12\u001b[0m \u001b[38;5;28mprint\u001b[39m(acc\u001b[38;5;241m.\u001b[39m_BankAccount__balance)\n",
      "\u001b[1;31mAttributeError\u001b[0m: 'BankAccount' object has no attribute '__balance'"
     ]
    }
   ],
   "source": [
    "acc = BankAccount(\"Sky Father\", 5000)\n",
    "\n",
    "acc.deposit(2000)            # ✅ Deposited ₹2000\n",
    "acc.withdraw(1000)           # ✅ Withdrew ₹1000\n",
    "print(acc.get_balance())     # ✅ 6000\n",
    "\n",
    "acc.set_balance(-5000)       # ❌ Not allowed\n",
    "print(acc.get_balance())     # ✅ Still 6000\n",
    "\n",
    "# 🔒 Can't access private variable directly:\n",
    "print(acc.__balance)         # ❌ AttributeError\n",
    "print(acc._BankAccount__balance)   # can be accesed this way "
   ]
  },
  {
   "cell_type": "code",
   "execution_count": 103,
   "id": "162a277d-4eb3-4efc-85d5-e71b4ce2281b",
   "metadata": {},
   "outputs": [],
   "source": [
    "class Player:\n",
    "    def __init__(self, name):\n",
    "        self.name = name\n",
    "        self.__score = 0\n",
    "\n",
    "    def update_score(self, points):\n",
    "        self.__score += points\n",
    "        self.__check_bonus()\n",
    "\n",
    "    def __check_bonus(self):  # Private method\n",
    "        if self.__score >= 100:\n",
    "            print(f\"{self.name} gets a bonus life! 🧬\")\n",
    "\n",
    "    def get_score(self):\n",
    "        return self.__score\n"
   ]
  },
  {
   "cell_type": "code",
   "execution_count": 104,
   "id": "fd32259d-6105-4180-a1d7-0331b060c8b6",
   "metadata": {},
   "outputs": [
    {
     "name": "stdout",
     "output_type": "stream",
     "text": [
      "50\n",
      "Zeus gets a bonus life! 🧬\n",
      "110\n"
     ]
    }
   ],
   "source": [
    "p1 = Player(\"Zeus\")\n",
    "\n",
    "p1.update_score(50)\n",
    "print(p1.get_score())    # 50\n",
    "\n",
    "p1.update_score(60)\n",
    "# Output: Zeus gets a bonus life! 🧬\n",
    "print(p1.get_score())    # 110\n"
   ]
  },
  {
   "cell_type": "code",
   "execution_count": 105,
   "id": "f281b7c2-55de-400c-9d8e-84a5256a2c5b",
   "metadata": {},
   "outputs": [],
   "source": [
    "class God:\n",
    "    def __init__(self, name, realm_power):\n",
    "        self.name = name\n",
    "        self._realm_power = realm_power  # 👈 Protected variable\n",
    "\n",
    "    def show_power(self):\n",
    "        print(f\"{self.name} has realm power: {self._realm_power}\")\n"
   ]
  },
  {
   "cell_type": "code",
   "execution_count": 106,
   "id": "d9d83feb-c5d0-492c-9914-fb7e20f42684",
   "metadata": {},
   "outputs": [],
   "source": [
    "class DemiGod(God):\n",
    "    def boost_power(self):\n",
    "        self._realm_power += 100  # ✅ Legal use in subclass\n",
    "        print(f\"{self.name}'s realm power boosted to {self._realm_power}\")\n"
   ]
  },
  {
   "cell_type": "code",
   "execution_count": 107,
   "id": "304d2d52-b136-40be-b494-0bfe5977e6bb",
   "metadata": {},
   "outputs": [
    {
     "name": "stdout",
     "output_type": "stream",
     "text": [
      "Zeus has realm power: 900\n",
      "Zeus's realm power boosted to 1000\n",
      "1000\n"
     ]
    }
   ],
   "source": [
    "zeus = DemiGod(\"Zeus\", 900)\n",
    "\n",
    "zeus.show_power()       # Zeus has realm power: 900\n",
    "zeus.boost_power()      # Zeus's realm power boosted to 1000\n",
    "\n",
    "# ⚠ You can access _realm_power directly, but it's not recommended:\n",
    "print(zeus._realm_power)  # 1000 (⚠ allowed, but you should avoid this!)\n"
   ]
  },
  {
   "cell_type": "code",
   "execution_count": 108,
   "id": "90d10947-6260-4cc1-adcc-32565baf21ac",
   "metadata": {},
   "outputs": [],
   "source": [
    "from abc import ABC, abstractmethod\n",
    "\n",
    "class Creature(ABC):  # Abstract Base Class\n",
    "    def __init__(self, name):\n",
    "        self.name = name\n",
    "\n",
    "    @abstractmethod\n",
    "    def make_sound(self):  # No implementation here\n",
    "        pass\n"
   ]
  },
  {
   "cell_type": "code",
   "execution_count": 109,
   "id": "8ff8b3d3-cc3d-4f82-8b07-35b2973a34ed",
   "metadata": {},
   "outputs": [],
   "source": [
    "class Dragon(Creature):\n",
    "    def make_sound(self):\n",
    "        return f\"{self.name} roars with fire! 🔥\"\n",
    "\n",
    "class Unicorn(Creature):\n",
    "    def make_sound(self):\n",
    "        return f\"{self.name} sings a magical melody 🌈\"\n"
   ]
  },
  {
   "cell_type": "code",
   "execution_count": 110,
   "id": "32669eab-0103-475c-a484-919d5e8590b6",
   "metadata": {},
   "outputs": [
    {
     "name": "stdout",
     "output_type": "stream",
     "text": [
      "Drako roars with fire! 🔥\n",
      "Luna sings a magical melody 🌈\n"
     ]
    }
   ],
   "source": [
    "d = Dragon(\"Drako\")\n",
    "print(d.make_sound())  # Drako roars with fire! 🔥\n",
    "\n",
    "u = Unicorn(\"Luna\")\n",
    "print(u.make_sound())  # Luna sings a magical melody 🌈\n",
    "\n",
    "# ❌ Can't create an object of the abstract class:\n",
    "# c = Creature(\"Generic\")  # TypeError!\n"
   ]
  },
  {
   "cell_type": "code",
   "execution_count": 111,
   "id": "774ca22a-c6ec-4751-8e27-06b08e8c1ea5",
   "metadata": {},
   "outputs": [
    {
     "data": {
      "text/plain": [
       "['__abs__',\n",
       " '__add__',\n",
       " '__and__',\n",
       " '__bool__',\n",
       " '__ceil__',\n",
       " '__class__',\n",
       " '__delattr__',\n",
       " '__dir__',\n",
       " '__divmod__',\n",
       " '__doc__',\n",
       " '__eq__',\n",
       " '__float__',\n",
       " '__floor__',\n",
       " '__floordiv__',\n",
       " '__format__',\n",
       " '__ge__',\n",
       " '__getattribute__',\n",
       " '__getnewargs__',\n",
       " '__getstate__',\n",
       " '__gt__',\n",
       " '__hash__',\n",
       " '__index__',\n",
       " '__init__',\n",
       " '__init_subclass__',\n",
       " '__int__',\n",
       " '__invert__',\n",
       " '__le__',\n",
       " '__lshift__',\n",
       " '__lt__',\n",
       " '__mod__',\n",
       " '__mul__',\n",
       " '__ne__',\n",
       " '__neg__',\n",
       " '__new__',\n",
       " '__or__',\n",
       " '__pos__',\n",
       " '__pow__',\n",
       " '__radd__',\n",
       " '__rand__',\n",
       " '__rdivmod__',\n",
       " '__reduce__',\n",
       " '__reduce_ex__',\n",
       " '__repr__',\n",
       " '__rfloordiv__',\n",
       " '__rlshift__',\n",
       " '__rmod__',\n",
       " '__rmul__',\n",
       " '__ror__',\n",
       " '__round__',\n",
       " '__rpow__',\n",
       " '__rrshift__',\n",
       " '__rshift__',\n",
       " '__rsub__',\n",
       " '__rtruediv__',\n",
       " '__rxor__',\n",
       " '__setattr__',\n",
       " '__sizeof__',\n",
       " '__str__',\n",
       " '__sub__',\n",
       " '__subclasshook__',\n",
       " '__truediv__',\n",
       " '__trunc__',\n",
       " '__xor__',\n",
       " 'as_integer_ratio',\n",
       " 'bit_count',\n",
       " 'bit_length',\n",
       " 'conjugate',\n",
       " 'denominator',\n",
       " 'from_bytes',\n",
       " 'imag',\n",
       " 'is_integer',\n",
       " 'numerator',\n",
       " 'real',\n",
       " 'to_bytes']"
      ]
     },
     "execution_count": 111,
     "metadata": {},
     "output_type": "execute_result"
    }
   ],
   "source": [
    "dir(int)"
   ]
  },
  {
   "cell_type": "code",
   "execution_count": 116,
   "id": "3aec86a7-9af6-4896-8a0b-737e680da29b",
   "metadata": {},
   "outputs": [
    {
     "name": "stdout",
     "output_type": "stream",
     "text": [
      "8\n"
     ]
    }
   ],
   "source": [
    "result = 5 .__add__(3)\n",
    "print(result)  \n",
    "  # this is same as  5+3 known as magic dunder method "
   ]
  },
  {
   "cell_type": "code",
   "execution_count": 117,
   "id": "589ef03f-9b3f-4b75-ad96-f53be81c8d8b",
   "metadata": {},
   "outputs": [],
   "source": [
    "class Hero:\n",
    "    def __init__(self, name, power_level):\n",
    "        self.name = name\n",
    "        self._power_level = power_level  # Private attribute convention\n",
    "\n",
    "    # Getter\n",
    "    @property\n",
    "    def power_level(self):\n",
    "        print(\"Getting power level...\")\n",
    "        return self._power_level\n",
    "\n",
    "    # Setter\n",
    "    @power_level.setter\n",
    "    def power_level(self, value):\n",
    "        print(\"Setting power level...\")\n",
    "        if value < 0:\n",
    "            raise ValueError(\"Power level cannot be negative!\")\n",
    "        self._power_level = value\n",
    "\n",
    "    # Deleter\n",
    "    @power_level.deleter\n",
    "    def power_level(self):\n",
    "        print(\"Deleting power level...\")\n",
    "        del self._power_level\n"
   ]
  },
  {
   "cell_type": "code",
   "execution_count": 118,
   "id": "ab4d4141-9313-4fea-bc0a-2b9e9c7a1f7a",
   "metadata": {},
   "outputs": [
    {
     "name": "stdout",
     "output_type": "stream",
     "text": [
      "Getting power level...\n",
      "9000\n",
      "Setting power level...\n",
      "Setting power level...\n",
      "Power level cannot be negative!\n",
      "Deleting power level...\n"
     ]
    }
   ],
   "source": [
    "hero = Hero(\"Sky Father\", 9000)\n",
    "\n",
    "print(hero.power_level)   # Getter called: prints 9000\n",
    "\n",
    "hero.power_level = 9500   # Setter called\n",
    "\n",
    "try:\n",
    "    hero.power_level = -50  # Setter validation triggers\n",
    "except ValueError as e:\n",
    "    print(e)               # Power level cannot be negative!\n",
    "\n",
    "del hero.power_level       # Deleter called\n",
    "\n",
    "# Now trying to access will raise AttributeError because it's deleted:\n",
    "# print(hero.power_level)  # AttributeError\n"
   ]
  },
  {
   "cell_type": "code",
   "execution_count": 119,
   "id": "b2e1d508-4bd5-4818-9493-f0f353908070",
   "metadata": {},
   "outputs": [
    {
     "name": "stdout",
     "output_type": "stream",
     "text": [
      "100\n"
     ]
    }
   ],
   "source": [
    "class Hero:\n",
    "    def __init__(self, power):\n",
    "        self._power = power\n",
    "\n",
    "    def get_power(self):\n",
    "        return self._power\n",
    "\n",
    "    def set_power(self, value):\n",
    "        if value < 0:\n",
    "            raise ValueError(\"Power cannot be negative\")\n",
    "        self._power = value\n",
    "\n",
    "hero = Hero(100)\n",
    "print(hero.get_power())     # Access via method\n",
    "hero.set_power(200)         # Set via method\n"
   ]
  },
  {
   "cell_type": "code",
   "execution_count": 120,
   "id": "e1e7b5bc-c968-4d32-8310-6045b4daf661",
   "metadata": {},
   "outputs": [
    {
     "name": "stdout",
     "output_type": "stream",
     "text": [
      "100\n"
     ]
    }
   ],
   "source": [
    "class Hero:\n",
    "    def __init__(self, power):\n",
    "        self._power = power\n",
    "\n",
    "    @property\n",
    "    def power(self):\n",
    "        return self._power\n",
    "\n",
    "    @power.setter\n",
    "    def power(self, value):\n",
    "        if value < 0:\n",
    "            raise ValueError(\"Power cannot be negative\")\n",
    "        self._power = value\n",
    "\n",
    "hero = Hero(100)\n",
    "print(hero.power)           # Looks like normal attribute access!\n",
    "hero.power = 200            # Looks like normal attribute assignment!\n"
   ]
  },
  {
   "cell_type": "code",
   "execution_count": null,
   "id": "d50177dd-7d1d-421b-aaa6-4a015d3a5b89",
   "metadata": {},
   "outputs": [],
   "source": []
  }
 ],
 "metadata": {
  "kernelspec": {
   "display_name": "Python 3 (ipykernel)",
   "language": "python",
   "name": "python3"
  },
  "language_info": {
   "codemirror_mode": {
    "name": "ipython",
    "version": 3
   },
   "file_extension": ".py",
   "mimetype": "text/x-python",
   "name": "python",
   "nbconvert_exporter": "python",
   "pygments_lexer": "ipython3",
   "version": "3.12.4"
  }
 },
 "nbformat": 4,
 "nbformat_minor": 5
}
