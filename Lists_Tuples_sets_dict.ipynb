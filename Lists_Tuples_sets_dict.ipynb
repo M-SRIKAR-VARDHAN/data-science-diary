{
 "cells": [
  {
   "cell_type": "code",
   "execution_count": 10,
   "id": "f69560f0-967d-4466-957c-bb3e8052e550",
   "metadata": {},
   "outputs": [],
   "source": [
    "s=[1,2,3,4,5,5,5]"
   ]
  },
  {
   "cell_type": "code",
   "execution_count": 11,
   "id": "a11f028b-de84-48e5-9a59-b2676b762fb1",
   "metadata": {},
   "outputs": [
    {
     "data": {
      "text/plain": [
       "[1, 2, 3, 4, 5, 5, 5]"
      ]
     },
     "execution_count": 11,
     "metadata": {},
     "output_type": "execute_result"
    }
   ],
   "source": [
    "s"
   ]
  },
  {
   "cell_type": "code",
   "execution_count": 12,
   "id": "de8b5fb2-12f2-434f-88fe-1240d10e448a",
   "metadata": {},
   "outputs": [],
   "source": [
    "s.append(67)"
   ]
  },
  {
   "cell_type": "code",
   "execution_count": 13,
   "id": "6f9a2899-a51f-40cb-b900-8bb9e3673b52",
   "metadata": {},
   "outputs": [
    {
     "data": {
      "text/plain": [
       "[1, 2, 3, 4, 5, 5, 5, 67]"
      ]
     },
     "execution_count": 13,
     "metadata": {},
     "output_type": "execute_result"
    }
   ],
   "source": [
    "s"
   ]
  },
  {
   "cell_type": "code",
   "execution_count": 14,
   "id": "2a072357-2a28-484b-800f-72afcb2d0855",
   "metadata": {},
   "outputs": [],
   "source": [
    "l=s.copy()"
   ]
  },
  {
   "cell_type": "code",
   "execution_count": 15,
   "id": "53703f99-9860-4d22-ad67-6d3fbc96c192",
   "metadata": {},
   "outputs": [
    {
     "data": {
      "text/plain": [
       "[1, 2, 3, 4, 5, 5, 5, 67]"
      ]
     },
     "execution_count": 15,
     "metadata": {},
     "output_type": "execute_result"
    }
   ],
   "source": [
    "l"
   ]
  },
  {
   "cell_type": "code",
   "execution_count": 16,
   "id": "109db96b-e5c1-49be-aa7a-bd1f1da9ebec",
   "metadata": {},
   "outputs": [
    {
     "data": {
      "text/plain": [
       "3"
      ]
     },
     "execution_count": 16,
     "metadata": {},
     "output_type": "execute_result"
    }
   ],
   "source": [
    "s.count(5)"
   ]
  },
  {
   "cell_type": "code",
   "execution_count": 21,
   "id": "34982444-8e69-4f7c-afea-d254bf32bc59",
   "metadata": {},
   "outputs": [],
   "source": [
    "a=\"i am god in my own realm\""
   ]
  },
  {
   "cell_type": "code",
   "execution_count": 23,
   "id": "10cfa2b8-177b-4541-8815-47addc1c2650",
   "metadata": {},
   "outputs": [
    {
     "data": {
      "text/plain": [
       "3"
      ]
     },
     "execution_count": 23,
     "metadata": {},
     "output_type": "execute_result"
    }
   ],
   "source": [
    "a.count('m')"
   ]
  },
  {
   "cell_type": "code",
   "execution_count": 24,
   "id": "c46e3de8-c7c2-4841-84bc-ae51e9fc03a7",
   "metadata": {},
   "outputs": [
    {
     "data": {
      "text/plain": [
       "2"
      ]
     },
     "execution_count": 24,
     "metadata": {},
     "output_type": "execute_result"
    }
   ],
   "source": [
    "a.count('m',1,-1)"
   ]
  },
  {
   "cell_type": "code",
   "execution_count": 25,
   "id": "0587a209-4399-4a56-b626-f9b8dad5069f",
   "metadata": {},
   "outputs": [],
   "source": [
    "s.extend(l)"
   ]
  },
  {
   "cell_type": "code",
   "execution_count": 26,
   "id": "47aa6161-d3d3-4a3c-8170-2dfb3c242aa8",
   "metadata": {},
   "outputs": [
    {
     "data": {
      "text/plain": [
       "[1, 2, 3, 4, 5, 5, 5, 67, 1, 2, 3, 4, 5, 5, 5, 67]"
      ]
     },
     "execution_count": 26,
     "metadata": {},
     "output_type": "execute_result"
    }
   ],
   "source": [
    "s"
   ]
  },
  {
   "cell_type": "code",
   "execution_count": 27,
   "id": "f1de2b65-a1fc-4fa9-b913-bf5928ce9175",
   "metadata": {},
   "outputs": [],
   "source": [
    "s.append(l)"
   ]
  },
  {
   "cell_type": "code",
   "execution_count": 28,
   "id": "d10dfef8-a1ee-415f-8a92-66a9bb772530",
   "metadata": {},
   "outputs": [
    {
     "data": {
      "text/plain": [
       "[1, 2, 3, 4, 5, 5, 5, 67, 1, 2, 3, 4, 5, 5, 5, 67, [1, 2, 3, 4, 5, 5, 5, 67]]"
      ]
     },
     "execution_count": 28,
     "metadata": {},
     "output_type": "execute_result"
    }
   ],
   "source": [
    "s"
   ]
  },
  {
   "cell_type": "code",
   "execution_count": 29,
   "id": "45c71ff0-9b44-4953-95e1-8e32edacae16",
   "metadata": {},
   "outputs": [
    {
     "data": {
      "text/plain": [
       "7"
      ]
     },
     "execution_count": 29,
     "metadata": {},
     "output_type": "execute_result"
    }
   ],
   "source": [
    "s.index(67)"
   ]
  },
  {
   "cell_type": "code",
   "execution_count": 30,
   "id": "3f5835ca-5ff6-486e-a850-d1a24db965b0",
   "metadata": {},
   "outputs": [
    {
     "data": {
      "text/plain": [
       "15"
      ]
     },
     "execution_count": 30,
     "metadata": {},
     "output_type": "execute_result"
    }
   ],
   "source": [
    "s.index(67,8,-1)"
   ]
  },
  {
   "cell_type": "code",
   "execution_count": 33,
   "id": "e93684ad-a0ba-4b78-a0b3-f43a3c30d890",
   "metadata": {},
   "outputs": [],
   "source": [
    "s.insert(1,143)"
   ]
  },
  {
   "cell_type": "code",
   "execution_count": 35,
   "id": "221d16c9-f76a-49aa-bb20-bbd68f7179d2",
   "metadata": {},
   "outputs": [
    {
     "data": {
      "text/plain": [
       "[1,\n",
       " 143,\n",
       " 2,\n",
       " 3,\n",
       " 4,\n",
       " 5,\n",
       " 5,\n",
       " 5,\n",
       " 67,\n",
       " 1,\n",
       " 2,\n",
       " 3,\n",
       " 4,\n",
       " 5,\n",
       " 5,\n",
       " 5,\n",
       " 67,\n",
       " [1, 2, 3, 4, 5, 5, 5, 67],\n",
       " 1]"
      ]
     },
     "execution_count": 35,
     "metadata": {},
     "output_type": "execute_result"
    }
   ],
   "source": [
    "s"
   ]
  },
  {
   "cell_type": "code",
   "execution_count": 38,
   "id": "7c613679-7f98-4cbf-b5a8-123ec04f8045",
   "metadata": {},
   "outputs": [
    {
     "data": {
      "text/plain": [
       "67"
      ]
     },
     "execution_count": 38,
     "metadata": {},
     "output_type": "execute_result"
    }
   ],
   "source": [
    "s.pop() #ran 3 times "
   ]
  },
  {
   "cell_type": "code",
   "execution_count": 39,
   "id": "4156b973-df73-4b7e-b233-ad60ef5bda1a",
   "metadata": {},
   "outputs": [
    {
     "data": {
      "text/plain": [
       "[1, 143, 2, 3, 4, 5, 5, 5, 67, 1, 2, 3, 4, 5, 5, 5]"
      ]
     },
     "execution_count": 39,
     "metadata": {},
     "output_type": "execute_result"
    }
   ],
   "source": [
    "s"
   ]
  },
  {
   "cell_type": "code",
   "execution_count": 40,
   "id": "904e70c4-1326-4f1e-8bca-a8009169d785",
   "metadata": {},
   "outputs": [],
   "source": [
    "s.remove(143)"
   ]
  },
  {
   "cell_type": "code",
   "execution_count": 41,
   "id": "ae5013c3-9ecf-4881-9099-d36b65493e22",
   "metadata": {},
   "outputs": [
    {
     "data": {
      "text/plain": [
       "[1, 2, 3, 4, 5, 5, 5, 67, 1, 2, 3, 4, 5, 5, 5]"
      ]
     },
     "execution_count": 41,
     "metadata": {},
     "output_type": "execute_result"
    }
   ],
   "source": [
    "s"
   ]
  },
  {
   "cell_type": "code",
   "execution_count": 42,
   "id": "ff67d78d-489e-4fc2-9f20-ff656a924631",
   "metadata": {},
   "outputs": [],
   "source": [
    "s.reverse()"
   ]
  },
  {
   "cell_type": "code",
   "execution_count": 43,
   "id": "05af75c9-a1d3-478c-8b11-ecd028d98fb0",
   "metadata": {},
   "outputs": [
    {
     "data": {
      "text/plain": [
       "[5, 5, 5, 4, 3, 2, 1, 67, 5, 5, 5, 4, 3, 2, 1]"
      ]
     },
     "execution_count": 43,
     "metadata": {},
     "output_type": "execute_result"
    }
   ],
   "source": [
    "s"
   ]
  },
  {
   "cell_type": "code",
   "execution_count": 44,
   "id": "a9dc9dc2-a917-43af-ab44-1c9d8ea1c80e",
   "metadata": {},
   "outputs": [],
   "source": [
    "s.sort()"
   ]
  },
  {
   "cell_type": "code",
   "execution_count": 45,
   "id": "30e7f603-1583-4bb3-88d3-5d78bd6d8410",
   "metadata": {},
   "outputs": [
    {
     "data": {
      "text/plain": [
       "[1, 1, 2, 2, 3, 3, 4, 4, 5, 5, 5, 5, 5, 5, 67]"
      ]
     },
     "execution_count": 45,
     "metadata": {},
     "output_type": "execute_result"
    }
   ],
   "source": [
    "s"
   ]
  },
  {
   "cell_type": "code",
   "execution_count": 46,
   "id": "f1f3019c-940b-47a7-9a7d-8d354e39938a",
   "metadata": {},
   "outputs": [
    {
     "data": {
      "text/plain": [
       "15"
      ]
     },
     "execution_count": 46,
     "metadata": {},
     "output_type": "execute_result"
    }
   ],
   "source": [
    "len(s)"
   ]
  },
  {
   "cell_type": "code",
   "execution_count": 48,
   "id": "d8861c3b-eefa-4f94-8100-5d3eb2047e58",
   "metadata": {},
   "outputs": [
    {
     "data": {
      "text/plain": [
       "117"
      ]
     },
     "execution_count": 48,
     "metadata": {},
     "output_type": "execute_result"
    }
   ],
   "source": [
    "sum(s)"
   ]
  },
  {
   "cell_type": "code",
   "execution_count": 49,
   "id": "2ce95319-0452-4647-b9af-b2d8604d7d07",
   "metadata": {},
   "outputs": [
    {
     "data": {
      "text/plain": [
       "1"
      ]
     },
     "execution_count": 49,
     "metadata": {},
     "output_type": "execute_result"
    }
   ],
   "source": [
    "min(s)"
   ]
  },
  {
   "cell_type": "code",
   "execution_count": 50,
   "id": "0d76613a-938a-497c-8b9d-fdf25dba5f44",
   "metadata": {},
   "outputs": [
    {
     "data": {
      "text/plain": [
       "67"
      ]
     },
     "execution_count": 50,
     "metadata": {},
     "output_type": "execute_result"
    }
   ],
   "source": [
    "max(s)"
   ]
  },
  {
   "cell_type": "code",
   "execution_count": 55,
   "id": "42d520fd-518b-4e19-a9fa-f331abbf3731",
   "metadata": {},
   "outputs": [],
   "source": [
    "s[0]=123"
   ]
  },
  {
   "cell_type": "code",
   "execution_count": 56,
   "id": "a1c1e66e-105b-41b8-af05-dfa665e2a992",
   "metadata": {},
   "outputs": [
    {
     "data": {
      "text/plain": [
       "[123, 1, 2, 2, 3, 3, 4, 4, 5, 5, 5, 5, 5, 5, 67]"
      ]
     },
     "execution_count": 56,
     "metadata": {},
     "output_type": "execute_result"
    }
   ],
   "source": [
    "s"
   ]
  },
  {
   "cell_type": "code",
   "execution_count": 74,
   "id": "93e2e8af-5fda-45db-bd70-f76c0e10803c",
   "metadata": {},
   "outputs": [],
   "source": [
    "r=(1,2,3,4,5,'god')"
   ]
  },
  {
   "cell_type": "code",
   "execution_count": 75,
   "id": "a66ae898-c747-4d5d-93bd-5c943137aa95",
   "metadata": {},
   "outputs": [
    {
     "ename": "TypeError",
     "evalue": "'tuple' object does not support item assignment",
     "output_type": "error",
     "traceback": [
      "\u001b[1;31m---------------------------------------------------------------------------\u001b[0m",
      "\u001b[1;31mTypeError\u001b[0m                                 Traceback (most recent call last)",
      "Cell \u001b[1;32mIn[75], line 1\u001b[0m\n\u001b[1;32m----> 1\u001b[0m \u001b[43mr\u001b[49m\u001b[43m[\u001b[49m\u001b[38;5;241;43m0\u001b[39;49m\u001b[43m]\u001b[49m\u001b[38;5;241m=\u001b[39m\u001b[38;5;241m34\u001b[39m \u001b[38;5;66;03m#tu[ple is immuatble does not support assignment after finshing \u001b[39;00m\n",
      "\u001b[1;31mTypeError\u001b[0m: 'tuple' object does not support item assignment"
     ]
    }
   ],
   "source": [
    "r[0]=34 #tu[ple is immuatble does not support assignment after finshing "
   ]
  },
  {
   "cell_type": "code",
   "execution_count": 76,
   "id": "10bbf890-3702-4ccf-bbba-ae3c760d218b",
   "metadata": {},
   "outputs": [
    {
     "data": {
      "text/plain": [
       "2"
      ]
     },
     "execution_count": 76,
     "metadata": {},
     "output_type": "execute_result"
    }
   ],
   "source": [
    "r[1]"
   ]
  },
  {
   "cell_type": "code",
   "execution_count": 77,
   "id": "ce0742b3-c212-4287-a68b-1faaef25a990",
   "metadata": {},
   "outputs": [
    {
     "data": {
      "text/plain": [
       "1"
      ]
     },
     "execution_count": 77,
     "metadata": {},
     "output_type": "execute_result"
    }
   ],
   "source": [
    "r.index(2)"
   ]
  },
  {
   "cell_type": "code",
   "execution_count": 78,
   "id": "8d7a581c-c268-4cde-9741-0f619b3100bd",
   "metadata": {},
   "outputs": [
    {
     "data": {
      "text/plain": [
       "1"
      ]
     },
     "execution_count": 78,
     "metadata": {},
     "output_type": "execute_result"
    }
   ],
   "source": [
    "r.count(4)"
   ]
  },
  {
   "cell_type": "code",
   "execution_count": 79,
   "id": "1e07a02c-f58a-4132-9361-8cb524e8948d",
   "metadata": {},
   "outputs": [
    {
     "data": {
      "text/plain": [
       "tuple"
      ]
     },
     "execution_count": 79,
     "metadata": {},
     "output_type": "execute_result"
    }
   ],
   "source": [
    "type(r)"
   ]
  },
  {
   "cell_type": "code",
   "execution_count": 80,
   "id": "a15dca7e-e15a-4713-b861-67e839d41bee",
   "metadata": {},
   "outputs": [],
   "source": [
    "i={}"
   ]
  },
  {
   "cell_type": "code",
   "execution_count": 81,
   "id": "0738480a-d65e-49ad-8f3f-c1abacd1e19b",
   "metadata": {},
   "outputs": [
    {
     "data": {
      "text/plain": [
       "dict"
      ]
     },
     "execution_count": 81,
     "metadata": {},
     "output_type": "execute_result"
    }
   ],
   "source": [
    "type(i)"
   ]
  },
  {
   "cell_type": "code",
   "execution_count": 98,
   "id": "ac62db62-9636-46e5-8a0e-95b7c3b926ed",
   "metadata": {},
   "outputs": [],
   "source": [
    "i={1,2,3,3,3,4,4,4,4,5,5,5,5,6,6,7,7,8,9}"
   ]
  },
  {
   "cell_type": "code",
   "execution_count": 99,
   "id": "1e3a0d78-2e21-43b9-8a9a-fcd4e79cadab",
   "metadata": {},
   "outputs": [
    {
     "data": {
      "text/plain": [
       "{1, 2, 3, 4, 5, 6, 7, 8, 9}"
      ]
     },
     "execution_count": 99,
     "metadata": {},
     "output_type": "execute_result"
    }
   ],
   "source": [
    "i"
   ]
  },
  {
   "cell_type": "code",
   "execution_count": 100,
   "id": "e61df460-7f41-4c6f-9da7-b12874854bff",
   "metadata": {},
   "outputs": [
    {
     "data": {
      "text/plain": [
       "set"
      ]
     },
     "execution_count": 100,
     "metadata": {},
     "output_type": "execute_result"
    }
   ],
   "source": [
    "type(i)"
   ]
  },
  {
   "cell_type": "code",
   "execution_count": 84,
   "id": "ba2e1118-adce-4754-9290-86b4e1190c86",
   "metadata": {},
   "outputs": [],
   "source": [
    "i.add(3)"
   ]
  },
  {
   "cell_type": "code",
   "execution_count": 85,
   "id": "28a13235-97d1-4247-a1ce-a2c5c64dfe0f",
   "metadata": {},
   "outputs": [
    {
     "data": {
      "text/plain": [
       "{1, 2, 3, 4, 5, 6, 7, 8, 9}"
      ]
     },
     "execution_count": 85,
     "metadata": {},
     "output_type": "execute_result"
    }
   ],
   "source": [
    "i"
   ]
  },
  {
   "cell_type": "code",
   "execution_count": 86,
   "id": "3551d63c-b661-4a1f-a85c-6a9c0fa82a50",
   "metadata": {},
   "outputs": [],
   "source": [
    "i.add('afd')"
   ]
  },
  {
   "cell_type": "code",
   "execution_count": 87,
   "id": "7b7e1cc4-33d6-40e0-81d9-7aeb553aa1ee",
   "metadata": {},
   "outputs": [
    {
     "data": {
      "text/plain": [
       "{1, 2, 3, 4, 5, 6, 7, 8, 9, 'afd'}"
      ]
     },
     "execution_count": 87,
     "metadata": {},
     "output_type": "execute_result"
    }
   ],
   "source": [
    "i"
   ]
  },
  {
   "cell_type": "code",
   "execution_count": 90,
   "id": "15f7b8f1-e801-48f8-abfa-4e610242b90f",
   "metadata": {},
   "outputs": [],
   "source": [
    "i1={1,2,3}"
   ]
  },
  {
   "cell_type": "code",
   "execution_count": 91,
   "id": "6530efae-01b7-4a78-a756-6170ef3eaf2e",
   "metadata": {},
   "outputs": [
    {
     "data": {
      "text/plain": [
       "{4, 5, 6, 7, 8, 9, 'afd'}"
      ]
     },
     "execution_count": 91,
     "metadata": {},
     "output_type": "execute_result"
    }
   ],
   "source": [
    "i.difference(i1)"
   ]
  },
  {
   "cell_type": "code",
   "execution_count": 92,
   "id": "83ff2037-7649-4d95-8128-add22c763c18",
   "metadata": {},
   "outputs": [
    {
     "data": {
      "text/plain": [
       "{1, 2, 3, 4, 5, 6, 7, 8, 9, 'afd'}"
      ]
     },
     "execution_count": 92,
     "metadata": {},
     "output_type": "execute_result"
    }
   ],
   "source": [
    "i"
   ]
  },
  {
   "cell_type": "code",
   "execution_count": 93,
   "id": "166175d8-401d-418e-8db7-1010be0cc8d7",
   "metadata": {},
   "outputs": [
    {
     "data": {
      "text/plain": [
       "{1, 2, 3}"
      ]
     },
     "execution_count": 93,
     "metadata": {},
     "output_type": "execute_result"
    }
   ],
   "source": [
    "i.intersection(i1)"
   ]
  },
  {
   "cell_type": "code",
   "execution_count": 111,
   "id": "64f72acc-7331-401e-be4e-4477ecb27e5c",
   "metadata": {},
   "outputs": [],
   "source": [
    "k={'update':'god','car':'tata','bike':'hero',3:4,45:'Hero'}"
   ]
  },
  {
   "cell_type": "code",
   "execution_count": 112,
   "id": "1ddb83ec-41e4-477d-97c8-cf36f4fbf79d",
   "metadata": {},
   "outputs": [
    {
     "data": {
      "text/plain": [
       "{'update': 'god', 'car': 'tata', 'bike': 'hero', 3: 4, 45: 'Hero'}"
      ]
     },
     "execution_count": 112,
     "metadata": {},
     "output_type": "execute_result"
    }
   ],
   "source": [
    "k"
   ]
  },
  {
   "cell_type": "code",
   "execution_count": 113,
   "id": "6216dcb7-4242-4fe5-99ca-789e809645fc",
   "metadata": {},
   "outputs": [
    {
     "data": {
      "text/plain": [
       "dict"
      ]
     },
     "execution_count": 113,
     "metadata": {},
     "output_type": "execute_result"
    }
   ],
   "source": [
    "type(k)"
   ]
  },
  {
   "cell_type": "code",
   "execution_count": 114,
   "id": "b756d3e1-4628-4661-93af-59cd53d01c3d",
   "metadata": {},
   "outputs": [],
   "source": [
    "a=k.values()"
   ]
  },
  {
   "cell_type": "code",
   "execution_count": 115,
   "id": "f1cbd808-4407-48cf-ab6a-66691aa86074",
   "metadata": {},
   "outputs": [
    {
     "data": {
      "text/plain": [
       "dict_values(['god', 'tata', 'hero', 4, 'Hero'])"
      ]
     },
     "execution_count": 115,
     "metadata": {},
     "output_type": "execute_result"
    }
   ],
   "source": [
    "a"
   ]
  },
  {
   "cell_type": "code",
   "execution_count": 116,
   "id": "5ac61795-b874-412a-a86a-dc28e17eb131",
   "metadata": {},
   "outputs": [],
   "source": [
    "k1={'update':'god','car':'tata','bike':'hero',3:4,54:'Hero'}"
   ]
  },
  {
   "cell_type": "code",
   "execution_count": 117,
   "id": "31641e69-1381-4327-83a7-f1b9d095f238",
   "metadata": {},
   "outputs": [],
   "source": [
    "k.update(k1)"
   ]
  },
  {
   "cell_type": "code",
   "execution_count": 118,
   "id": "c656a1d8-895b-4046-be1a-1b7464ca31a6",
   "metadata": {},
   "outputs": [
    {
     "data": {
      "text/plain": [
       "{'update': 'god', 'car': 'tata', 'bike': 'hero', 3: 4, 45: 'Hero', 54: 'Hero'}"
      ]
     },
     "execution_count": 118,
     "metadata": {},
     "output_type": "execute_result"
    }
   ],
   "source": [
    "k"
   ]
  },
  {
   "cell_type": "code",
   "execution_count": 120,
   "id": "cc35f92a-f450-4b89-8068-ed6c5e0b3936",
   "metadata": {},
   "outputs": [
    {
     "data": {
      "text/plain": [
       "{'update': None, 'car': None, 'bike': None, 3: None, 54: None}"
      ]
     },
     "execution_count": 120,
     "metadata": {},
     "output_type": "execute_result"
    }
   ],
   "source": [
    "k.fromkeys(k1)"
   ]
  },
  {
   "cell_type": "code",
   "execution_count": 122,
   "id": "bba2aca1-a6d1-44c0-b512-fb15132ab479",
   "metadata": {},
   "outputs": [
    {
     "data": {
      "text/plain": [
       "'tata'"
      ]
     },
     "execution_count": 122,
     "metadata": {},
     "output_type": "execute_result"
    }
   ],
   "source": [
    "k.pop('car')"
   ]
  },
  {
   "cell_type": "code",
   "execution_count": 123,
   "id": "9d18518e-3f9d-48bc-b58b-ca220d14f10e",
   "metadata": {},
   "outputs": [
    {
     "data": {
      "text/plain": [
       "{'update': 'god', 'bike': 'hero', 3: 4, 45: 'Hero', 54: 'Hero'}"
      ]
     },
     "execution_count": 123,
     "metadata": {},
     "output_type": "execute_result"
    }
   ],
   "source": [
    "k"
   ]
  },
  {
   "cell_type": "code",
   "execution_count": 125,
   "id": "acd7ff19-acdd-4df2-b29f-9b343bc9ff17",
   "metadata": {},
   "outputs": [],
   "source": [
    "r=list(k.items())"
   ]
  },
  {
   "cell_type": "code",
   "execution_count": 126,
   "id": "a31f248d-835b-4af8-8119-694a953b4912",
   "metadata": {},
   "outputs": [
    {
     "data": {
      "text/plain": [
       "[('update', 'god'), ('bike', 'hero'), (3, 4), (45, 'Hero'), (54, 'Hero')]"
      ]
     },
     "execution_count": 126,
     "metadata": {},
     "output_type": "execute_result"
    }
   ],
   "source": [
    "r"
   ]
  },
  {
   "cell_type": "code",
   "execution_count": 127,
   "id": "6bcd1784-bd58-4d6d-9fe4-efcab10dbd1d",
   "metadata": {},
   "outputs": [
    {
     "data": {
      "text/plain": [
       "[3, 54, 'update', 'bike', 45]"
      ]
     },
     "execution_count": 127,
     "metadata": {},
     "output_type": "execute_result"
    }
   ],
   "source": [
    "list(set(dict(tuple(r))))"
   ]
  },
  {
   "cell_type": "code",
   "execution_count": 128,
   "id": "28140b81-88a6-43be-9ba1-cdb9805ba835",
   "metadata": {},
   "outputs": [
    {
     "data": {
      "text/plain": [
       "[('update', 'god'), ('bike', 'hero'), (3, 4), (45, 'Hero'), (54, 'Hero')]"
      ]
     },
     "execution_count": 128,
     "metadata": {},
     "output_type": "execute_result"
    }
   ],
   "source": [
    "r"
   ]
  },
  {
   "cell_type": "code",
   "execution_count": 129,
   "id": "1b28de60-5564-4221-87ef-51c566a8094c",
   "metadata": {},
   "outputs": [
    {
     "data": {
      "text/plain": [
       "[123, 1, 2, 2, 3, 3, 4, 4, 5, 5, 5, 5, 5, 5, 67]"
      ]
     },
     "execution_count": 129,
     "metadata": {},
     "output_type": "execute_result"
    }
   ],
   "source": [
    "s[:]"
   ]
  },
  {
   "cell_type": "code",
   "execution_count": 130,
   "id": "a39a465e-e5e4-454d-951a-3570f8bae3ab",
   "metadata": {},
   "outputs": [
    {
     "data": {
      "text/plain": [
       "[('update', 'god'), ('bike', 'hero'), (3, 4), (45, 'Hero'), (54, 'Hero')]"
      ]
     },
     "execution_count": 130,
     "metadata": {},
     "output_type": "execute_result"
    }
   ],
   "source": [
    "r[:]"
   ]
  },
  {
   "cell_type": "code",
   "execution_count": 131,
   "id": "2ed1332d-01b5-413b-92b5-5576fea5ef1c",
   "metadata": {},
   "outputs": [
    {
     "ename": "TypeError",
     "evalue": "'set' object is not subscriptable",
     "output_type": "error",
     "traceback": [
      "\u001b[1;31m---------------------------------------------------------------------------\u001b[0m",
      "\u001b[1;31mTypeError\u001b[0m                                 Traceback (most recent call last)",
      "Cell \u001b[1;32mIn[131], line 1\u001b[0m\n\u001b[1;32m----> 1\u001b[0m \u001b[43mi\u001b[49m\u001b[43m[\u001b[49m\u001b[43m:\u001b[49m\u001b[43m]\u001b[49m\n",
      "\u001b[1;31mTypeError\u001b[0m: 'set' object is not subscriptable"
     ]
    }
   ],
   "source": [
    "i[:]"
   ]
  },
  {
   "cell_type": "code",
   "execution_count": 135,
   "id": "3159d11e-7a77-486e-aa42-99cda64fd753",
   "metadata": {},
   "outputs": [
    {
     "data": {
      "text/plain": [
       "'hero'"
      ]
     },
     "execution_count": 135,
     "metadata": {},
     "output_type": "execute_result"
    }
   ],
   "source": [
    "k['bike']"
   ]
  },
  {
   "cell_type": "code",
   "execution_count": null,
   "id": "501275eb-a9c6-48dd-a063-b1bc8d280505",
   "metadata": {},
   "outputs": [],
   "source": []
  }
 ],
 "metadata": {
  "kernelspec": {
   "display_name": "Python 3 (ipykernel)",
   "language": "python",
   "name": "python3"
  },
  "language_info": {
   "codemirror_mode": {
    "name": "ipython",
    "version": 3
   },
   "file_extension": ".py",
   "mimetype": "text/x-python",
   "name": "python",
   "nbconvert_exporter": "python",
   "pygments_lexer": "ipython3",
   "version": "3.12.4"
  }
 },
 "nbformat": 4,
 "nbformat_minor": 5
}
